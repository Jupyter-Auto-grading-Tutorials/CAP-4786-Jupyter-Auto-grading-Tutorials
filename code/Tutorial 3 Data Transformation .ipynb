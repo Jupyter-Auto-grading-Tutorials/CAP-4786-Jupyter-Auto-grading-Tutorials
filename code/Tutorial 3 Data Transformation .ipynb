{
 "cells": [
  {
   "cell_type": "markdown",
   "metadata": {},
   "source": [
    "# Data Transformations\n",
    "Throughout this tutorial we will be explaining the different methods for data transformation. Transforming data allows users to more easily perform analysis on the data. Additionally, the user will be able to specify which columns, rows,  and other specifications they want included in their dataset. We will be learning how to subset, slice, sort, drop rows with blank values, and  several other commands that will allow us to clean up the data set. \n",
    "\n",
    "# Lesson 1: Subsetting & Slicing\n",
    "Before we can run some examples we must import the required packages"
   ]
  },
  {
   "cell_type": "code",
   "execution_count": null,
   "metadata": {},
   "outputs": [],
   "source": [
    "import tutorial_three_answers as check\n",
    "import pandas as pd\n",
    "from dplython import diamonds "
   ]
  },
  {
   "cell_type": "markdown",
   "metadata": {},
   "source": [
    "## Subsetting 1.1\n",
    "Subsetting a Pandas data frame is the process of selecting a set of specific rows and columns from a given data frame.\n"
   ]
  },
  {
   "cell_type": "markdown",
   "metadata": {},
   "source": [
    "## Slicing 1.2\n",
    "This method extracts a specific portion from a list. To slice we need to first call the name of the list `a` then specify what values you want to call. When calling for the values we specify a starting position, ending position, and stride. For example, `a[]`\n",
    "\n",
    "Starting with postion m\n",
    "Up to but not including n\n",
    "Negative indexing can also be used"
   ]
  },
  {
   "cell_type": "markdown",
   "metadata": {},
   "source": [
    "# Lesson 2: Removing NA's\n",
    "The command `dropna()` is used to remove all rows that contain a blank or NA value."
   ]
  },
  {
   "cell_type": "markdown",
   "metadata": {},
   "source": [
    "# Lesson 3: Sorting\n",
    "The `sort()` method sorts the list ascending by default. You can also make a function to decide the sorting criteria(s). reverse\n",
    "\n",
    "The `sort_values()` sorts data frame columns in an ascending or descending order based on the column of your choosing. "
   ]
  },
  {
   "cell_type": "markdown",
   "metadata": {},
   "source": [
    "# Lesson 4: Groupby\n",
    "\n"
   ]
  },
  {
   "cell_type": "markdown",
   "metadata": {},
   "source": [
    "# Lesson 5: Agg\n",
    "\n"
   ]
  },
  {
   "cell_type": "markdown",
   "metadata": {},
   "source": [
    "# Lesson 6: Concat\n",
    "\n"
   ]
  },
  {
   "cell_type": "markdown",
   "metadata": {},
   "source": [
    "# Lesson 7: Join and Merge\n",
    "\n"
   ]
  }
 ],
 "metadata": {
  "kernelspec": {
   "display_name": "Python 3",
   "language": "python",
   "name": "python3"
  },
  "language_info": {
   "codemirror_mode": {
    "name": "ipython",
    "version": 3
   },
   "file_extension": ".py",
   "mimetype": "text/x-python",
   "name": "python",
   "nbconvert_exporter": "python",
   "pygments_lexer": "ipython3",
   "version": "3.8.5"
  }
 },
 "nbformat": 4,
 "nbformat_minor": 4
}
