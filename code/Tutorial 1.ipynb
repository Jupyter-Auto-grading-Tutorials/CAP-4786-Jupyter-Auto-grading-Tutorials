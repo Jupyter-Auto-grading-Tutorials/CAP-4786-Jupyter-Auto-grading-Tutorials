{
 "cells": [
  {
   "cell_type": "markdown",
   "metadata": {},
   "source": [
    "# Tutorial 1\n",
    "Hi everyone, thank you for taking the time to learn some Python! We will be introducing you to some beginner content. This tutorial will be covering how to creat a pandas data frame, how to display the data frame's content, and create a scatter plot using your new data frame.\n",
    "\n",
    "# Intro: Background Knowledge\n",
    "This tutorial uses Jupyter Notebook as our coding browser. Below will be a list describing what is what\n",
    "* To load or \"run\" a chunk you must click on the chunk and press the `( ► Run )` button at the top\n",
    "\n",
    "## Code vs Text\n",
    "The `print()` function prints/outputs a specified variable, message, or value that is within its parathesis. If you need to output characters/words you must surround our message with `\" \"`. If you are outputting a value or variable, simply the variable or value within `print()`. "
   ]
  },
  {
   "cell_type": "code",
   "execution_count": null,
   "metadata": {},
   "outputs": [],
   "source": [
    "# This is an example of a code chunk\n",
    "print(\"Yay! I just coded!\")"
   ]
  },
  {
   "cell_type": "markdown",
   "metadata": {},
   "source": [
    "`\"This is is an example of a text chunk\"`"
   ]
  },
  {
   "cell_type": "markdown",
   "metadata": {},
   "source": [
    "## Variables\n",
    "Variables are very useful tools when coding. They allow the writer to assign a variable to equal a value or function. We will be using vaiables throughout this lesson to make things easier, efficient, and organized. Below is an example:"
   ]
  },
  {
   "cell_type": "code",
   "execution_count": null,
   "metadata": {},
   "outputs": [],
   "source": [
    "# In this example we will be showing you how to assign a value to a variable\n",
    "x = 2\n",
    "y = \"fluffy\"\n",
    "\n",
    "print(x)\n",
    "print(y)"
   ]
  },
  {
   "cell_type": "code",
   "execution_count": null,
   "metadata": {},
   "outputs": [],
   "source": [
    "# Variables can be used in functions and calculations\n",
    "print(x * 5)\n",
    "print(y + \" cow\")"
   ]
  },
  {
   "cell_type": "markdown",
   "metadata": {},
   "source": [
    "# Lesson 1: Pandas Data Frame\n",
    "For this first lesson we will be learning how to create a pandas dataframe. \n",
    "First things first we need to learn how to import the right packages in order to use pandas and other cool features that with Python! In the below chunk you will see an example of how to import a package as abbreviation. "
   ]
  },
  {
   "cell_type": "code",
   "execution_count": null,
   "metadata": {},
   "outputs": [],
   "source": [
    "import tutorial_one_answers as check\n",
    "import numpy as np                    # this is a package that adds additional tools to your Jupyter Notebook\n",
    "from dplython import diamonds         # this package contains a data set we will use later in the tutorial"
   ]
  },
  {
   "cell_type": "markdown",
   "metadata": {},
   "source": [
    "### Question 1: Try importing the correct packages we will need for this lesson\n",
    "Make sure to use the `import` function! You will need to import `matplotlib.pyplot` with the abbreviation `plt` and `pandas` with the abbreviation `pd`. (Worth 2 points)"
   ]
  },
  {
   "cell_type": "code",
   "execution_count": null,
   "metadata": {},
   "outputs": [],
   "source": [
    "# type your code in this chunk\n",
    "import pandas as pd\n",
    "import matplotlib.pyplot as plt"
   ]
  },
  {
   "cell_type": "markdown",
   "metadata": {},
   "source": [
    "Please check your inputted answer by running the chunk below. If your answer is correct, \"Correct\" will be printed! Hints will print if you need help getting to the correct answer."
   ]
  },
  {
   "cell_type": "code",
   "execution_count": null,
   "metadata": {},
   "outputs": [],
   "source": [
    "# This chunk will check if your input is correct\n",
    "check.answer_1(dir())"
   ]
  },
  {
   "cell_type": "markdown",
   "metadata": {},
   "source": [
    "## 1.1 Pandas: Creating a dataframe\n",
    "Now that we have learned how to import, we can now get into pandas! We start off by creating your own dataset using the pandas data frame function. Below is the first example of how to create a `pandas dataframe`! Run the chunk to see how the data frame outputs."
   ]
  },
  {
   "cell_type": "code",
   "execution_count": null,
   "metadata": {
    "scrolled": true
   },
   "outputs": [],
   "source": [
    "# Here is a simple dataframe with values and column names\n",
    "pd.DataFrame(np.array([[1, 2], [4, 5], [7, 8]]),\n",
    "                   columns=['a', 'b'])"
   ]
  },
  {
   "cell_type": "markdown",
   "metadata": {},
   "source": [
    "### Question 2: Recreate the dataframe\n",
    "Please try and recreate the dataframe above but set the dataframe equal to the variable `\"myData\"` (Worth 2 Points)"
   ]
  },
  {
   "cell_type": "code",
   "execution_count": null,
   "metadata": {},
   "outputs": [],
   "source": [
    "# Write your data frame recreation in this chunk\n",
    "myData = pd.DataFrame(np.array([[1, 2], [4, 5], [7, 8]]),\n",
    "                   columns=['a', 'b'])"
   ]
  },
  {
   "cell_type": "markdown",
   "metadata": {},
   "source": [
    "Now to check if your input was correct. If you were right, \"Correct\" will be printed! Hints will print if you need help getting to the correct answer."
   ]
  },
  {
   "cell_type": "code",
   "execution_count": null,
   "metadata": {},
   "outputs": [],
   "source": [
    "# Run this chuck to check your answer\n",
    "check.answer_2(myData)"
   ]
  },
  {
   "cell_type": "markdown",
   "metadata": {},
   "source": [
    "## 1.2 Subsetting Dataframes\n",
    "Here we will be learning how to subset a dataframe to select specific columns that we are interested in analyzing. For the next example, we will create a new dataframe from `diamonds` that only contains `carat`, `cut`, `clarity`, `depth`, and `price`. First things first, we must view the `diamonds` data set to understand what it contains. \n",
    "* Using the "
   ]
  },
  {
   "cell_type": "code",
   "execution_count": null,
   "metadata": {},
   "outputs": [],
   "source": [
    "# Run this chuck to output the first 5 rows of the data set diamonds\n",
    "diamonds.head()"
   ]
  },
  {
   "cell_type": "markdown",
   "metadata": {},
   "source": [
    "Now you will see how to subset the `diamonds` data set to only show `carat` and `price`"
   ]
  },
  {
   "cell_type": "code",
   "execution_count": null,
   "metadata": {},
   "outputs": [],
   "source": [
    "# Run this chuck to output the data as a subset\n",
    "diamonds[[\"carat\", \"price\"]]"
   ]
  },
  {
   "cell_type": "markdown",
   "metadata": {},
   "source": [
    "Lastly, you will see how to create a new dataframe, `diamondValue`, as a subset of `diamonds` that includes `cut`, `clarity`, `depth`."
   ]
  },
  {
   "cell_type": "code",
   "execution_count": null,
   "metadata": {},
   "outputs": [],
   "source": [
    "# Run this chunk to compute the new data frame daimondValue\n",
    "diamondsValue = diamonds[[\"cut\", \"clarity\", \"depth\"]]\n",
    "\n",
    "# Output the first 5 rows of the new data frame\n",
    "diamondsValue.head()"
   ]
  },
  {
   "cell_type": "markdown",
   "metadata": {},
   "source": [
    "### Question 3: Create a new data frame\n",
    "Create a new dataframe named `newDiamonds` by subsetting `diamonds` to contain the columns `carat`, `cut`, `clarity`, `depth`, and `price`. (Worth 2 Points)"
   ]
  },
  {
   "cell_type": "code",
   "execution_count": null,
   "metadata": {},
   "outputs": [],
   "source": [
    "# Write your answer in this chunk\n",
    "newDiamonds = diamonds[[\"carat\", \"cut\", \"clarity\", \"depth\", \"price\"]]\n",
    "newDiamonds.head()"
   ]
  },
  {
   "cell_type": "markdown",
   "metadata": {},
   "source": [
    "Now to check if your input was correct. If you were right, \"Correct\" will be printed! Hints will print if you need help getting to the correct answer."
   ]
  },
  {
   "cell_type": "code",
   "execution_count": null,
   "metadata": {},
   "outputs": [],
   "source": [
    "# Run this chuck to check your answer \n",
    "check.answer_3(newDiamonds)"
   ]
  },
  {
   "cell_type": "markdown",
   "metadata": {},
   "source": [
    "## 1.3 Importing Data\n",
    "Here we will be learning how to import new data from an excel file and read it as pandas dataframe. \n",
    "* To do this we will use the function `pd.read_excel('filename')`. "
   ]
  },
  {
   "cell_type": "code",
   "execution_count": null,
   "metadata": {},
   "outputs": [],
   "source": [
    "# read by default 1st sheet of an excel file \n",
    "esports = pd.read_csv(\"GeneralEsportData.csv\", encoding='cp1252') \n",
    "\n",
    "esports.head()"
   ]
  },
  {
   "cell_type": "markdown",
   "metadata": {},
   "source": [
    "# Lesson 2: Scatter Plot\n",
    "Now on to our second lesson we will be learning how to take the pandas dataframe and visualize its content as a scatter plot. <br>\n",
    "Let us first discuss how to create a `scatter plot` and introduce you to `matplotlib.pyplot`."
   ]
  },
  {
   "cell_type": "code",
   "execution_count": null,
   "metadata": {},
   "outputs": [],
   "source": [
    "# This is an example of a Scatter Plot\n",
    "x = np.random.rand(5)\n",
    "y = np.random.rand(5)\n",
    "\n",
    "# The below funtion 'scatter()' creates the Scatter Plot!\n",
    "examplePlot = plt.scatter(x, y)    \n",
    "\n",
    "# The show() function outputs the new plot\n",
    "plt.show(examplePlot)"
   ]
  },
  {
   "cell_type": "markdown",
   "metadata": {},
   "source": [
    "The above plot is a good example of a simple scatter plot. You must make sure to add `plt.` before calling the function `scatter()` because it is a part of `matplotlib.pyplot` package!"
   ]
  },
  {
   "cell_type": "markdown",
   "metadata": {},
   "source": [
    "## Create your own Scatter Plot with your \"myData\" data frame"
   ]
  },
  {
   "cell_type": "code",
   "execution_count": null,
   "metadata": {},
   "outputs": [],
   "source": [
    "# Write your data frame recreation in this chunk\n",
    "myScatterPlot = "
   ]
  },
  {
   "cell_type": "markdown",
   "metadata": {},
   "source": [
    "Now to check if your input was correct. If you were right, \"Correct\" will be printed! Hints will print if you need help getting to the correct answer."
   ]
  },
  {
   "cell_type": "code",
   "execution_count": null,
   "metadata": {},
   "outputs": [],
   "source": [
    "# Run this chuck to check your answer\n",
    "check.answer_3(myScatterPlot)"
   ]
  },
  {
   "cell_type": "markdown",
   "metadata": {},
   "source": [
    "## Scatterplot using data from a csv file"
   ]
  },
  {
   "cell_type": "code",
   "execution_count": null,
   "metadata": {},
   "outputs": [],
   "source": [
    "plt.scatter(x= esports['Game'], y= esports['TotalPlayers'])"
   ]
  },
  {
   "cell_type": "markdown",
   "metadata": {},
   "source": [
    "# Lesson 3: Line Graph\n",
    "Now on to our third lesson we will be learning how to take the pandas dataframe and visualize its content as a line plot. "
   ]
  },
  {
   "cell_type": "code",
   "execution_count": null,
   "metadata": {},
   "outputs": [],
   "source": []
  }
 ],
 "metadata": {
  "kernelspec": {
   "display_name": "Python 3",
   "language": "python",
   "name": "python3"
  },
  "language_info": {
   "codemirror_mode": {
    "name": "ipython",
    "version": 3
   },
   "file_extension": ".py",
   "mimetype": "text/x-python",
   "name": "python",
   "nbconvert_exporter": "python",
   "pygments_lexer": "ipython3",
   "version": "3.8.5"
  }
 },
 "nbformat": 4,
 "nbformat_minor": 4
}
