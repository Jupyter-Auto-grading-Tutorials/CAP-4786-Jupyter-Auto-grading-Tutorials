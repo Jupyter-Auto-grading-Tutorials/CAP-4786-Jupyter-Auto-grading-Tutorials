{
 "cells": [
  {
   "cell_type": "markdown",
   "metadata": {
    "id": "iEDsahQkNlAc"
   },
   "source": [
    "# Tutorial 2: Data Visualization\n",
    "Hi everyone, thank you for taking the time to learn some Python! We will be introducing you to more advanced content. This tutorial will be covering how to create vizualizations: scatter plot, line plots, bar graphs, and histograms. Additionally, we will learn how to add titles, axes labels, and color-coding to vizualizations.\n",
    "\n",
    "\n",
    "# Lesson 1: Scatter Plot\n",
    "Now on to our first lesson we will be learning how to take the pandas dataframe and visualize its content as a scatter plot. <br>\n",
    "Let us first discuss how to create a `scatter plot` and introduce you to `matplotlib.pyplot`.\n",
    "\n",
    "First we must import the required packages"
   ]
  },
  {
   "cell_type": "code",
   "execution_count": null,
   "metadata": {
    "id": "0AxlF5X4NlAm"
   },
   "outputs": [],
   "source": [
    "import numpy as np                    # this is a package that adds additional tools to your Jupyter Notebook\n",
    "from dplython import diamonds \n",
    "import matplotlib.pyplot as plt"
   ]
  },
  {
   "cell_type": "markdown",
   "metadata": {
    "id": "-Qd3xg7SNlAs"
   },
   "source": [
    "## Create your own Scatter Plot from random data"
   ]
  },
  {
   "cell_type": "code",
   "execution_count": null,
   "metadata": {
    "id": "U9ueMMXZNlAt",
    "outputId": "ed508211-ad22-4df7-c41b-0090b8b1c00b"
   },
   "outputs": [],
   "source": [
    "# This is an example of a Scatter Plot\n",
    "x = np.random.rand(5)\n",
    "y = np.random.rand(5)\n",
    "\n",
    "# The below funtion 'scatter()' creates the Scatter Plot!\n",
    "examplePlot = plt.scatter(x, y)    \n",
    "\n",
    "# The show() function outputs the new plot\n",
    "plt.show(examplePlot)"
   ]
  },
  {
   "cell_type": "markdown",
   "metadata": {
    "id": "3AdXwTTdNlA2"
   },
   "source": [
    "The above plot is a good example of a simple scatter plot. You must make sure to add `plt.` before calling the function `scatter()` because it is a part of `matplotlib.pyplot` package!"
   ]
  },
  {
   "cell_type": "code",
   "execution_count": null,
   "metadata": {
    "id": "kwYOIxFRNlA3"
   },
   "outputs": [],
   "source": [
    "# Write your data frame recreation in this chunk\n",
    "myScatterPlot = "
   ]
  },
  {
   "cell_type": "markdown",
   "metadata": {
    "id": "1J53hxEuNlA9"
   },
   "source": [
    "Now to check if your input was correct. If you were right, \"Correct\" will be printed! Hints will print if you need help getting to the correct answer."
   ]
  },
  {
   "cell_type": "code",
   "execution_count": null,
   "metadata": {
    "id": "IiZg_zLhNlA-"
   },
   "outputs": [],
   "source": [
    "# Run this chuck to check your answer\n",
    "check.answer_3(myScatterPlot)"
   ]
  },
  {
   "cell_type": "markdown",
   "metadata": {
    "id": "apUoWQbqNlBG"
   },
   "source": [
    "## Scatterplot using data from a Data frame `diamonds`"
   ]
  },
  {
   "cell_type": "code",
   "execution_count": null,
   "metadata": {
    "id": "cicQLETMNlBJ"
   },
   "outputs": [],
   "source": [
    "plt.scatter(x= diamonds['carat'], y= diamonds['price'])"
   ]
  },
  {
   "cell_type": "markdown",
   "metadata": {
    "id": "VGbRdS7SNlBM"
   },
   "source": [
    "# Lesson 2: Line Plots\n",
    "Now on to our third lesson we will be learning how to take the pandas dataframe and visualize its content as a line plot. These plots are useful linear graphs that show data frequencies along a number line. They can be used to analyze data that has a single defined value.\n",
    "\n",
    "Here is an example where  we start by creating a figure and an axes. In their simplest form, a figure and axes can be created as follows:"
   ]
  },
  {
   "cell_type": "code",
   "execution_count": null,
   "metadata": {
    "id": "TetID1lCNlBN"
   },
   "outputs": [],
   "source": [
    "fig = plt.figure()\n",
    "ax = plt.axes()"
   ]
  },
  {
   "cell_type": "markdown",
   "metadata": {
    "id": "X6e-z1CjOqDQ"
   },
   "source": [
    "In Matplotlib, the figure (an instance of the class plt.Figure) can be thought of as a single container that contains all the objects representing axes, graphics, text, and labels. The axes (an instance of the class plt.Axes) is what we see above: a bounding box with ticks and labels, which will eventually contain the plot elements that make up our visualization. Throughout this book, we'll commonly use the variable name fig to refer to a figure instance, and ax to refer to an axes instance or group of axes instances.\n",
    "\n",
    "Once we have created an axes, we can use the ax.plot function to plot data. Let's start with a simple sinusoid:"
   ]
  },
  {
   "cell_type": "code",
   "execution_count": null,
   "metadata": {
    "id": "ux6HruOjOwCW"
   },
   "outputs": [],
   "source": [
    "fig = plt.figure()\n",
    "ax = plt.axes()\n",
    "\n",
    "x = np.linspace(0, 10, 1000)\n",
    "ax.plot(x, np.sin(x));"
   ]
  },
  {
   "cell_type": "markdown",
   "metadata": {
    "id": "D1GexWCIO3Ph"
   },
   "source": [
    "Alternatively, we can use the pylab interface and let the figure and axes be created in the background:"
   ]
  },
  {
   "cell_type": "code",
   "execution_count": null,
   "metadata": {
    "id": "814hJgsDO5dj"
   },
   "outputs": [],
   "source": [
    "plt.plot(x, np.sin(x));"
   ]
  },
  {
   "cell_type": "markdown",
   "metadata": {
    "id": "rXKde5xSO7qm"
   },
   "source": [
    "If we want to create the same figure with multiple lines, we can call the plot function multiple times:"
   ]
  },
  {
   "cell_type": "code",
   "execution_count": null,
   "metadata": {
    "id": "YIOkuhu9PFW3"
   },
   "outputs": [],
   "source": [
    "plt.plot(x, np.sin(x))\n",
    "plt.plot(x, np.cos(x));"
   ]
  },
  {
   "cell_type": "markdown",
   "metadata": {
    "id": "ZxiMGSrxPG3k"
   },
   "source": [
    "The first adjustment you might wish to make to a plot is to control the line colors and styles. The plt.plot() function takes arguments that can be used to specify these. To adjust the color, you can use the color keyword, which accepts a string argument representing virtually any imaginable color. The color can be specified in different ways:"
   ]
  },
  {
   "cell_type": "code",
   "execution_count": null,
   "metadata": {
    "id": "TIwSwocQTNSV"
   },
   "outputs": [],
   "source": [
    "plt.plot(x, np.sin(x - 0), color='blue')        # specify color by name\n",
    "plt.plot(x, np.sin(x - 1), color='g')           # short color code (rgbcmyk)\n",
    "plt.plot(x, np.sin(x - 2), color='0.75')        # Grayscale between 0 and 1\n",
    "plt.plot(x, np.sin(x - 3), color='#FFDD44')     # Hex code (RRGGBB from 00 to FF)\n",
    "plt.plot(x, np.sin(x - 4), color=(1.0,0.2,0.3)) # RGB tuple, values 0 to 1\n",
    "plt.plot(x, np.sin(x - 5), color='chartreuse'); # all HTML color names support"
   ]
  },
  {
   "cell_type": "markdown",
   "metadata": {
    "id": "NI-YwFzYTa0_"
   },
   "source": [
    "If no color is chosen for the graph, Matplotlib will cycle through a set of default colors for multiple lines.\n",
    "\n",
    "Similarly, the line style can be adjusted using the linestyle keyword:"
   ]
  },
  {
   "cell_type": "code",
   "execution_count": null,
   "metadata": {
    "id": "gkdk_ZEkTg94"
   },
   "outputs": [],
   "source": [
    "plt.plot(x, x + 0, linestyle='solid')\n",
    "plt.plot(x, x + 1, linestyle='dashed')\n",
    "plt.plot(x, x + 2, linestyle='dashdot')\n",
    "plt.plot(x, x + 3, linestyle='dotted');\n",
    "\n",
    "# For short, you can use the following codes:\n",
    "plt.plot(x, x + 4, linestyle='-')  # solid\n",
    "plt.plot(x, x + 5, linestyle='--') # dashed\n",
    "plt.plot(x, x + 6, linestyle='-.') # dashdot\n",
    "plt.plot(x, x + 7, linestyle=':');  # dotted"
   ]
  },
  {
   "cell_type": "markdown",
   "metadata": {
    "id": "oaljIS25Tvmd"
   },
   "source": [
    "Matplotlib is great at choosing default axes limits for your plot, but sometimes it's nice to have finer control. The most basic way to adjust axis limits is to use the plt.xlim() and plt.ylim() methods:"
   ]
  },
  {
   "cell_type": "code",
   "execution_count": null,
   "metadata": {
    "id": "FexGKqo_T3Gv"
   },
   "outputs": [],
   "source": [
    "plt.plot(x, np.sin(x))\n",
    "\n",
    "plt.xlim(-1, 11)\n",
    "plt.ylim(-1.5, 1.5);"
   ]
  },
  {
   "cell_type": "markdown",
   "metadata": {
    "id": "wC-Vujw-T6OS"
   },
   "source": [
    "The following is for when you want to present the axis in reverse:"
   ]
  },
  {
   "cell_type": "code",
   "execution_count": null,
   "metadata": {
    "id": "mdd9Iu_mUAQe"
   },
   "outputs": [],
   "source": [
    "plt.plot(x, np.sin(x))\n",
    "\n",
    "plt.xlim(10, 0)\n",
    "plt.ylim(1.2, -1.2);"
   ]
  },
  {
   "cell_type": "markdown",
   "metadata": {
    "id": "i3-vrmBTUOWO"
   },
   "source": [
    "Titles and axis labels are the simplest such labels—there are methods that can be used to quickly set them:"
   ]
  },
  {
   "cell_type": "code",
   "execution_count": null,
   "metadata": {
    "id": "tCgKOxWNUSZi"
   },
   "outputs": [],
   "source": [
    "plt.plot(x, np.sin(x))\n",
    "plt.title(\"A Sine Curve\")\n",
    "plt.xlabel(\"x\")\n",
    "plt.ylabel(\"sin(x)\");"
   ]
  },
  {
   "cell_type": "markdown",
   "metadata": {
    "id": "Zs-JAM1-UcHu"
   },
   "source": [
    "When multiple lines are being shown within a single axes, it is useful to create a plot legend that labels each line. Matplotlib has a built-in way of creating a legend. It is done via the plt.legend() method. Though there are several valid ways of using this, I find it easiest to specify the label of each line using the label keyword of the plot function:"
   ]
  },
  {
   "cell_type": "code",
   "execution_count": null,
   "metadata": {
    "id": "hCcjO2LyUlxD"
   },
   "outputs": [],
   "source": [
    "plt.plot(x, np.sin(x), '-g', label='sin(x)')\n",
    "plt.plot(x, np.cos(x), ':b', label='cos(x)')\n",
    "plt.axis('equal')\n",
    "\n",
    "plt.legend();"
   ]
  },
  {
   "cell_type": "markdown",
   "metadata": {
    "id": "8PjWUx61UrU4"
   },
   "source": [
    "## Lesson 3: Bar Graphs\n",
    "A bar chart/graph is a chart/graph that presents categorical data with rectangular bars with heights or lengths proportional to the values that they represent. These charts/graphs can be plotted in a vertical or horizontal manner.\n",
    "\n",
    "Matplotlib API provides the bar() function that is used in the MATLAB style and the object oriented API. The signature of bar() function to be used with axes object includes the following example:"
   ]
  },
  {
   "cell_type": "markdown",
   "metadata": {
    "id": "gQeVLkcKVQ1A"
   },
   "source": [
    "`ax.bar(x, height, width, bottom, align)`"
   ]
  },
  {
   "cell_type": "markdown",
   "metadata": {
    "id": "ZOdiPOjsVexi"
   },
   "source": [
    "The parameters in this example are the following\n",
    "\n",
    "x: sequence of scalars representing the x coordinates of the bars.\n",
    "\n",
    "height: scalars that represent the height of the bars\n",
    "\n",
    "width: scalars that represent the width of the bars\n",
    "\n",
    "bottom: the y-coordinates of the graph\n",
    "\n",
    "align: center/edge of the graph; optional"
   ]
  },
  {
   "cell_type": "markdown",
   "metadata": {
    "id": "RCuO1N1NWMsd"
   },
   "source": [
    "Following is a simple example of the Matplotlib bar plot. It shows the number of students enrolled for various courses offered at an institute."
   ]
  },
  {
   "cell_type": "code",
   "execution_count": null,
   "metadata": {
    "id": "VhY8a9YpWPBD"
   },
   "outputs": [],
   "source": [
    "#import matplotlib.pyplot as plt\n",
    "fig = plt.figure()\n",
    "ax = fig.add_axes([0,0,1,1])\n",
    "langs = ['C', 'C++', 'Java', 'Python', 'PHP']\n",
    "students = [23,17,35,29,12]\n",
    "ax.bar(langs,students)\n",
    "plt.show()"
   ]
  },
  {
   "cell_type": "markdown",
   "metadata": {
    "id": "iFj0j1pWWVBD"
   },
   "source": [
    "Multiple bar charts can be displayed by playing with the thickness and the positions of each bar. The data variable contains three series of four values. The following script will show three bar charts of four bars. The bars will have a thickness of 0.25 units. Each bar chart will be shifted 0.25 units from the previous one. The data object is a multidict containing number of students passed in three branches of an engineering college over the last four years."
   ]
  },
  {
   "cell_type": "code",
   "execution_count": null,
   "metadata": {
    "id": "MDF1kVXyWf28"
   },
   "outputs": [],
   "source": [
    "data = [[30, 25, 50, 20],\n",
    "[40, 23, 51, 17],\n",
    "[35, 22, 45, 19]]\n",
    "X = np.arange(4)\n",
    "fig = plt.figure()\n",
    "ax = fig.add_axes([0,0,1,1])\n",
    "ax.bar(X + 0.00, data[0], color = 'b', width = 0.25)\n",
    "ax.bar(X + 0.25, data[1], color = 'g', width = 0.25)\n",
    "ax.bar(X + 0.50, data[2], color = 'r', width = 0.25)"
   ]
  },
  {
   "cell_type": "markdown",
   "metadata": {
    "id": "lLEq4Vr9WnIW"
   },
   "source": [
    "The optional bottom parameter of the pyplot.bar() function allows you to specify a starting value for a bar. Instead of running from zero to a value, it will go from the bottom to the value. The first call to pyplot.bar() plots the blue bars. The second call to pyplot.bar() plots the red bars, with the bottom of the blue bars being at the top of the red bars."
   ]
  },
  {
   "cell_type": "code",
   "execution_count": null,
   "metadata": {
    "id": "nmZISHktWtAU"
   },
   "outputs": [],
   "source": [
    "N = 5\n",
    "menMeans = (20, 35, 30, 35, 27)\n",
    "womenMeans = (25, 32, 34, 20, 25)\n",
    "ind = np.arange(N) # the x locations for the groups\n",
    "width = 0.35\n",
    "fig = plt.figure()\n",
    "ax = fig.add_axes([0,0,1,1])\n",
    "ax.bar(ind, menMeans, width, color='r')\n",
    "ax.bar(ind, womenMeans, width,bottom=menMeans, color='b')\n",
    "ax.set_ylabel('Scores')\n",
    "ax.set_title('Scores by group and gender')\n",
    "ax.set_xticks(ind, ('G1', 'G2', 'G3', 'G4', 'G5'))\n",
    "ax.set_yticks(np.arange(0, 81, 10))\n",
    "ax.legend(labels=['Men', 'Women'])\n",
    "plt.show()"
   ]
  },
  {
   "cell_type": "markdown",
   "metadata": {
    "id": "OoX9kqTCW-bw"
   },
   "source": [
    "## Lesson 4: Histograms\n",
    "A histogram is a chart that showcases rectangles whose area is proportional to the frequency of a variable and whose width is equal to the class interval.\n",
    "\n",
    "The following example shows how a normal histogram is built:"
   ]
  },
  {
   "cell_type": "code",
   "execution_count": null,
   "metadata": {
    "id": "CsLs3REEX9M_"
   },
   "outputs": [],
   "source": [
    "%matplotlib inline\n",
    "import numpy as np\n",
    "import matplotlib.pyplot as plt\n",
    "plt.style.use('seaborn-white')\n",
    "\n",
    "data = np.random.randn(1000)"
   ]
  },
  {
   "cell_type": "code",
   "execution_count": null,
   "metadata": {
    "id": "xq0Tq0yVX_nl"
   },
   "outputs": [],
   "source": [
    "plt.hist(data);"
   ]
  },
  {
   "cell_type": "markdown",
   "metadata": {
    "id": "VNF_T1FrYC9e"
   },
   "source": [
    "The hist() function has various options to include the calculation and the display at the same time; here's an example of a more customized histogram:"
   ]
  },
  {
   "cell_type": "code",
   "execution_count": null,
   "metadata": {
    "id": "CdYtCyAFYNNm"
   },
   "outputs": [],
   "source": [
    "plt.hist(data, bins=30, normed=True, alpha=0.5,\n",
    "         histtype='stepfilled', color='steelblue',\n",
    "         edgecolor='none');"
   ]
  },
  {
   "cell_type": "markdown",
   "metadata": {
    "id": "dAHDDNx_YS9s"
   },
   "source": [
    "The plt.hist docstring has more information on other customization options that are available to the user. The combination of histtype='stepfilled' along with some transparency alpha is useful when comparing histograms of several distributions:"
   ]
  },
  {
   "cell_type": "code",
   "execution_count": null,
   "metadata": {
    "id": "NZA9yoHsYl-o"
   },
   "outputs": [],
   "source": [
    "x1 = np.random.normal(0, 0.8, 1000)\n",
    "x2 = np.random.normal(-2, 1, 1000)\n",
    "x3 = np.random.normal(3, 2, 1000)\n",
    "\n",
    "kwargs = dict(histtype='stepfilled', alpha=0.3, normed=True, bins=40)\n",
    "\n",
    "plt.hist(x1, **kwargs)\n",
    "plt.hist(x2, **kwargs)\n",
    "plt.hist(x3, **kwargs);"
   ]
  },
  {
   "cell_type": "markdown",
   "metadata": {
    "id": "KEa4qFiRYsRr"
   },
   "source": [
    "Compute the histogram with the np.histogram() function:"
   ]
  },
  {
   "cell_type": "code",
   "execution_count": null,
   "metadata": {
    "id": "JCkqvqkcYzqe"
   },
   "outputs": [],
   "source": [
    "counts, bin_edges = np.histogram(data, bins=5)\n",
    "print(counts)"
   ]
  },
  {
   "cell_type": "markdown",
   "metadata": {
    "id": "bWZTWk-cZKm5"
   },
   "source": [
    "Much like how there's such thing as one-dimensional graphs, there are also two-dimensional graphs as well. These graphs are created by dividing points into two-dimensional bins. The first method for creating these types of graphs is through the use of the Gaussian distribution:\n",
    "\n"
   ]
  },
  {
   "cell_type": "code",
   "execution_count": null,
   "metadata": {
    "id": "L7o8QGuUZ1CW"
   },
   "outputs": [],
   "source": [
    "mean = [0, 0]\n",
    "cov = [[1, 1], [1, 2]]\n",
    "x, y = np.random.multivariate_normal(mean, cov, 10000).T"
   ]
  },
  {
   "cell_type": "markdown",
   "metadata": {
    "id": "FrRuklTvZ5Dj"
   },
   "source": [
    "This next example showcases a more linear way to plot a two-dimensional histogram. This is done through the use of the plt.hist2d in this example:"
   ]
  },
  {
   "cell_type": "code",
   "execution_count": null,
   "metadata": {
    "id": "9vMgWnIvaOyK"
   },
   "outputs": [],
   "source": [
    "plt.hist2d(x, y, bins=30, cmap='Blues')\n",
    "cb = plt.colorbar()\n",
    "cb.set_label('counts in bin')"
   ]
  },
  {
   "cell_type": "markdown",
   "metadata": {
    "id": "MzZ3JGUiaavx"
   },
   "source": [
    "The two-dimensional histogram creates a tesselation of squares across the axes. Another natural shape for such a tesselation is the regular hexagon. For this purpose, Matplotlib provides the plt.hexbin routine, which will represents a two-dimensional dataset binned within a grid of hexagons:"
   ]
  },
  {
   "cell_type": "code",
   "execution_count": null,
   "metadata": {
    "id": "bTeLbFY7adXh"
   },
   "outputs": [],
   "source": [
    "plt.hexbin(x, y, gridsize=30, cmap='Blues')\n",
    "cb = plt.colorbar(label='count in bin')"
   ]
  },
  {
   "cell_type": "markdown",
   "metadata": {
    "id": "eOXXbRb4aik2"
   },
   "source": [
    "Another method for evaluating densities in multiple dimensions is known as the kernel density estimation (KDE). KDE \"smears out\" the points in space and add up the result to obtain a smooth function. One extremely quick and simple KDE implementation exists in the scipy.stats package. Here is a quick example of using the KDE on this data:"
   ]
  },
  {
   "cell_type": "code",
   "execution_count": null,
   "metadata": {
    "id": "L8IbCsw9aqes"
   },
   "outputs": [],
   "source": [
    "from scipy.stats import gaussian_kde\n",
    "\n",
    "# fit an array of size [Ndim, Nsamples]\n",
    "data = np.vstack([x, y])\n",
    "kde = gaussian_kde(data)\n",
    "\n",
    "# evaluate on a regular grid\n",
    "xgrid = np.linspace(-3.5, 3.5, 40)\n",
    "ygrid = np.linspace(-6, 6, 40)\n",
    "Xgrid, Ygrid = np.meshgrid(xgrid, ygrid)\n",
    "Z = kde.evaluate(np.vstack([Xgrid.ravel(), Ygrid.ravel()]))\n",
    "\n",
    "# Plot the result as an image\n",
    "plt.imshow(Z.reshape(Xgrid.shape),\n",
    "           origin='lower', aspect='auto',\n",
    "           extent=[-3.5, 3.5, -6, 6],\n",
    "           cmap='Blues')\n",
    "cb = plt.colorbar()\n",
    "cb.set_label(\"density\")"
   ]
  }
 ],
 "metadata": {
  "colab": {
   "collapsed_sections": [
    "iEDsahQkNlAc",
    "-Qd3xg7SNlAs",
    "apUoWQbqNlBG",
    "8PjWUx61UrU4"
   ],
   "name": "Tutorial 2 Data Visualization.ipynb",
   "provenance": []
  },
  "kernelspec": {
   "display_name": "Python 3",
   "language": "python",
   "name": "python3"
  },
  "language_info": {
   "codemirror_mode": {
    "name": "ipython",
    "version": 3
   },
   "file_extension": ".py",
   "mimetype": "text/x-python",
   "name": "python",
   "nbconvert_exporter": "python",
   "pygments_lexer": "ipython3",
   "version": "3.8.5"
  }
 },
 "nbformat": 4,
 "nbformat_minor": 1
}
