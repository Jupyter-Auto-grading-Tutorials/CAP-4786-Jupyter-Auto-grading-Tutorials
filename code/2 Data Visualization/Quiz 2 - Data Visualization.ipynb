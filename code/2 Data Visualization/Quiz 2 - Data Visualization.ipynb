{
 "cells": [
  {
   "cell_type": "markdown",
   "metadata": {},
   "source": [
    "# Quiz 2\n",
    "This worksheet will test your knowledge on the material that was taught in Tutorial 2. \n",
    "\n",
    "* Plotting with Matplotlib and Seaborn\n",
    "    * Scatter plots, Line plots, Bar graphs, & Histograms\n",
    "    * Including titles, axes labels, and color-coding\n",
    "\n",
    "Each exercise will ask the user to select or code the correct answer. At the end of the quiz the user will see which questions they answer incorrectly. \n",
    "\n",
    "**Before starting your Quiz run the chuck below!**"
   ]
  },
  {
   "cell_type": "code",
   "execution_count": null,
   "metadata": {},
   "outputs": [],
   "source": [
    "# It is critical that you run this chuck!!\n",
    "import quiz_2_answers as check"
   ]
  },
  {
   "cell_type": "markdown",
   "metadata": {},
   "source": [
    "## Question 1\n",
    "**True or False:** Graphs have one axe, a line that run across the bottom side. <br>\n",
    "> A. True <br>\n",
    "B. False"
   ]
  },
  {
   "cell_type": "code",
   "execution_count": null,
   "metadata": {},
   "outputs": [],
   "source": [
    "# Type in the letter that corresponds to your answer within the quotation marks.\n",
    "answer1 = \"\"\n",
    "\n",
    "### Your answer choice\n",
    "answer1"
   ]
  },
  {
   "cell_type": "markdown",
   "metadata": {},
   "source": [
    "Check your answer by running the below chuck!"
   ]
  },
  {
   "cell_type": "code",
   "execution_count": null,
   "metadata": {},
   "outputs": [],
   "source": [
    "# This chuck will check if your input is correct\n",
    "check.answer_1(answer1)"
   ]
  },
  {
   "cell_type": "markdown",
   "metadata": {},
   "source": [
    "## Question 2\n",
    "Which one of these descriptions best describes histograms: <br>\n",
    "> A. a bar chart that is used for continuous data<br>\n",
    "B. a bar chart that is used to represent a number of items <br>\n",
    "C. a bar chart that has a range of numbers <br>\n",
    "D. both A and C"
   ]
  },
  {
   "cell_type": "code",
   "execution_count": null,
   "metadata": {},
   "outputs": [],
   "source": [
    "# Type in the letter that corresponds to your answer within the quotation marks.\n",
    "answer2 = \"\"\n",
    "\n",
    "### Your answer choice\n",
    "answer2"
   ]
  },
  {
   "cell_type": "markdown",
   "metadata": {},
   "source": [
    "Check your answer by running the below chuck!"
   ]
  },
  {
   "cell_type": "code",
   "execution_count": null,
   "metadata": {},
   "outputs": [],
   "source": [
    "# This chuck will check if your input is correct\n",
    "check.answer_2(answer2)"
   ]
  },
  {
   "cell_type": "markdown",
   "metadata": {},
   "source": [
    "## Question 3\n",
    "Which graph is best for showing dependent data:<br>\n",
    "> A. Bar graph <br>\n",
    "B. Line Graph <br>\n",
    "C. Scatterplot  <br>\n",
    "D. None of the above"
   ]
  },
  {
   "cell_type": "code",
   "execution_count": null,
   "metadata": {},
   "outputs": [],
   "source": [
    "# Type in the letter that corresponds to your answer within the quotation marks.\n",
    "answer3 = \"\"\n",
    "\n",
    "### Your answer choice\n",
    "answer3"
   ]
  },
  {
   "cell_type": "markdown",
   "metadata": {},
   "source": [
    "Check your answer by running the below chuck!"
   ]
  },
  {
   "cell_type": "code",
   "execution_count": null,
   "metadata": {},
   "outputs": [],
   "source": [
    "# This chuck will check if your input is correct\n",
    "check.answer_3(answer3)"
   ]
  },
  {
   "cell_type": "markdown",
   "metadata": {},
   "source": [
    "## Question 4\n",
    "**True or False:** Word and Excel are the best computer software packages to create visualizations. <br>\n",
    "> A. True <br>\n",
    "B. False "
   ]
  },
  {
   "cell_type": "code",
   "execution_count": null,
   "metadata": {},
   "outputs": [],
   "source": [
    "# Type in the letter that corresponds to your answer within the quotation marks.\n",
    "answer4 = \"\"\n",
    "\n",
    "### Your answer choice\n",
    "answer4"
   ]
  },
  {
   "cell_type": "markdown",
   "metadata": {},
   "source": [
    "Check your answer by running the below chuck!"
   ]
  },
  {
   "cell_type": "code",
   "execution_count": null,
   "metadata": {},
   "outputs": [],
   "source": [
    "# This chuck will check if your input is correct\n",
    "check.answer_4(answer4)"
   ]
  },
  {
   "cell_type": "markdown",
   "metadata": {},
   "source": [
    "## Question 5\n",
    "**True or False:** Pie charts are the only good charts to use for statistical data <br>\n",
    "> A. True <br>\n",
    "B. False "
   ]
  },
  {
   "cell_type": "code",
   "execution_count": null,
   "metadata": {},
   "outputs": [],
   "source": [
    "# Type in the letter that corresponds to your answer within the quotation marks.\n",
    "answer5 = \"\"\n",
    "\n",
    "### Your answer choice\n",
    "answer5"
   ]
  },
  {
   "cell_type": "markdown",
   "metadata": {},
   "source": [
    "Check your answer by running the below chuck!"
   ]
  },
  {
   "cell_type": "code",
   "execution_count": null,
   "metadata": {},
   "outputs": [],
   "source": [
    "# This chuck will check if your input is correct\n",
    "check.answer_5(answer5)"
   ]
  },
  {
   "cell_type": "markdown",
   "metadata": {},
   "source": [
    "## Question 6\n",
    "**True Or False:** Bar Graphs are used for quantitative data.<br>\n",
    "> A. True <br>\n",
    "B. False"
   ]
  },
  {
   "cell_type": "code",
   "execution_count": null,
   "metadata": {},
   "outputs": [],
   "source": [
    "# Type in the letter that corresponds to your answer within the quotation marks.\n",
    "answer6 = \"\"\n",
    "\n",
    "### Your answer choice\n",
    "answer6"
   ]
  },
  {
   "cell_type": "markdown",
   "metadata": {},
   "source": [
    "Check your answer by running the below chuck!"
   ]
  },
  {
   "cell_type": "code",
   "execution_count": null,
   "metadata": {},
   "outputs": [],
   "source": [
    "# This chuck will check if your input is correct\n",
    "check.answer_6(answer6)"
   ]
  },
  {
   "cell_type": "markdown",
   "metadata": {},
   "source": [
    "## Question 7\n",
    "Which of these packages is used for plotting?<br>\n",
    "> A. Numpy <br>\n",
    "B. Matplotlib <br>\n",
    "C. Pandas <br>\n",
    "D. All of the above"
   ]
  },
  {
   "cell_type": "code",
   "execution_count": null,
   "metadata": {},
   "outputs": [],
   "source": [
    "# Type in the letter that corresponds to your answer within the quotation marks.\n",
    "answer7 = \"\"\n",
    "\n",
    "### Your answer choice\n",
    "answer7"
   ]
  },
  {
   "cell_type": "markdown",
   "metadata": {},
   "source": [
    "Check your answer by running the below chuck!"
   ]
  },
  {
   "cell_type": "code",
   "execution_count": null,
   "metadata": {},
   "outputs": [],
   "source": [
    "# This chuck will check if your input is correct\n",
    "check.answer_7(answer7)"
   ]
  },
  {
   "cell_type": "markdown",
   "metadata": {},
   "source": [
    "## Question 8\n",
    "A collection of related data points on a plot is known as a: <br>\n",
    "> A. Series <br>\n",
    "B. Annotation <br>\n",
    "C. Marker <br>\n",
    "D. Cufflinks\n"
   ]
  },
  {
   "cell_type": "code",
   "execution_count": null,
   "metadata": {},
   "outputs": [],
   "source": [
    "# Type in the letter that corresponds to your answer within the quotation marks.\n",
    "answer8 = \"\"\n",
    "\n",
    "### Your answer choice\n",
    "answer8"
   ]
  },
  {
   "cell_type": "markdown",
   "metadata": {},
   "source": [
    "Check your answer by running the below chuck!"
   ]
  },
  {
   "cell_type": "code",
   "execution_count": null,
   "metadata": {},
   "outputs": [],
   "source": [
    "# This chuck will check if your input is correct\n",
    "check.answer_8(answer8)"
   ]
  },
  {
   "cell_type": "markdown",
   "metadata": {},
   "source": [
    "## Question 9\n",
    "To plot a dashed line in matplotliv we use which command/string? <br>\n",
    "> A. `/-` <br>\n",
    "B. `&-` <br>\n",
    "C. `--` <br>\n",
    "D. `;-`\n"
   ]
  },
  {
   "cell_type": "code",
   "execution_count": null,
   "metadata": {},
   "outputs": [],
   "source": [
    "# Type in the letter that corresponds to your answer within the quotation marks.\n",
    "answer9 = \"\"\n",
    "\n",
    "### Your answer choice\n",
    "answer9"
   ]
  },
  {
   "cell_type": "markdown",
   "metadata": {},
   "source": [
    "Check your answer by running the below chuck!"
   ]
  },
  {
   "cell_type": "code",
   "execution_count": null,
   "metadata": {},
   "outputs": [],
   "source": [
    "# This chuck will check if your input is correct\n",
    "check.answer_9(answer9)"
   ]
  },
  {
   "cell_type": "markdown",
   "metadata": {},
   "source": [
    "## Question 10\n",
    "Text labels explaining each set of points on the plot means is called a: <br>\n",
    "> A. Marker <br>\n",
    "B. Legend <br>\n",
    "C. Annotation <br>\n",
    "D. None of the above\n"
   ]
  },
  {
   "cell_type": "code",
   "execution_count": null,
   "metadata": {},
   "outputs": [],
   "source": [
    "# Type in the letter that corresponds to your answer within the quotation marks.\n",
    "answer10 = \"\"\n",
    "\n",
    "### Your answer choice\n",
    "answer10"
   ]
  },
  {
   "cell_type": "markdown",
   "metadata": {},
   "source": [
    "Check your answer by running the below chuck!"
   ]
  },
  {
   "cell_type": "code",
   "execution_count": null,
   "metadata": {},
   "outputs": [],
   "source": [
    "# This chuck will check if your input is correct\n",
    "check.answer_10(answer10)"
   ]
  }
 ],
 "metadata": {
  "kernelspec": {
   "display_name": "Python 3",
   "language": "python",
   "name": "python3"
  },
  "language_info": {
   "codemirror_mode": {
    "name": "ipython",
    "version": 3
   },
   "file_extension": ".py",
   "mimetype": "text/x-python",
   "name": "python",
   "nbconvert_exporter": "python",
   "pygments_lexer": "ipython3",
   "version": "3.8.5"
  }
 },
 "nbformat": 4,
 "nbformat_minor": 4
}
