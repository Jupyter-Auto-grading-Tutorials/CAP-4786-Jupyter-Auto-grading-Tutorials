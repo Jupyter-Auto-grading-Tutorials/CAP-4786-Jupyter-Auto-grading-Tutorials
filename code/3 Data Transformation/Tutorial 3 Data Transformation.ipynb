{
 "cells": [
  {
   "cell_type": "markdown",
   "metadata": {},
   "source": [
    "# Data Transformations\n",
    "Throughout this tutorial we will be explaining the different methods for data transformation. Transforming data allows users to more easily perform analysis on the data. Additionally, the user will be able to specify which columns, rows,  and other specifications they want included in their dataset. We will be learning how to subset, slice, sort, drop rows with blank values, and  several other commands that will allow us to clean up the data set. \n",
    "\n",
    "# Lesson 1: Subsetting & Slicing\n",
    "Before we can run some examples we must import the required packages"
   ]
  },
  {
   "cell_type": "code",
   "execution_count": null,
   "metadata": {
    "scrolled": true
   },
   "outputs": [],
   "source": [
    "import pandas as pd\n",
    "from dplython import diamonds \n",
    "import numpy as np"
   ]
  },
  {
   "cell_type": "markdown",
   "metadata": {},
   "source": [
    "## Subsetting 1.1\n",
    "Subsetting a Pandas data frame is the process of selecting a set of specific rows and columns from a given data frame.\n"
   ]
  },
  {
   "cell_type": "markdown",
   "metadata": {},
   "source": [
    "## Slicing 1.2\n",
    "This method extracts a specific portion from a list. To slice we need to first call the name of the list `a` then specify what values you want to call. When calling for the values we specify a starting position, ending position, and stride. For example, `a[]`\n",
    "\n",
    "Starting with postion m\n",
    "Up to but not including n\n",
    "Negative indexing can also be used"
   ]
  },
  {
   "cell_type": "markdown",
   "metadata": {},
   "source": [
    "# Lesson 2: Removing NA's\n",
    "The command `dropna()` is used to remove all rows that contain a blank or NA value. Below is an example of a dataframe with NA values. We will be droping rows where at least one value is NA"
   ]
  },
  {
   "cell_type": "code",
   "execution_count": null,
   "metadata": {},
   "outputs": [],
   "source": [
    "# Example Data frame with NA values\n",
    "batFamily = pd.DataFrame({\"name\": ['Alfred', 'Batman', 'Catwoman', 'Robin'],\n",
    "                   \"toy\": [np.nan, 'Batmobile', 'Bullwhip', 'Birdarang'],\n",
    "                   \"born\": [np.nan, pd.Timestamp(\"1915-04-17\"), np.nan, pd.Timestamp(\"1940-03-06\")]})\n",
    "batFamily"
   ]
  },
  {
   "cell_type": "code",
   "execution_count": null,
   "metadata": {},
   "outputs": [],
   "source": [
    "# Dropping the rows with NA values\n",
    "batFamily.dropna()"
   ]
  },
  {
   "cell_type": "markdown",
   "metadata": {},
   "source": [
    "# Lesson 3: Sorting\n",
    "The `sort()` method sorts the list ascending by default. You can also make a function to decide the sorting criteria(s). reverse\n",
    "\n",
    "The `sort_values()` sorts data frame columns in an ascending or descending order based on the column of your choosing. "
   ]
  },
  {
   "cell_type": "code",
   "execution_count": null,
   "metadata": {},
   "outputs": [],
   "source": [
    "sort(diamonds, decreasing = FALSE)"
   ]
  },
  {
   "cell_type": "code",
   "execution_count": null,
   "metadata": {},
   "outputs": [],
   "source": [
    "# Sorting the diamonds dataframe by carat in from least to greatest\n",
    "diamonds.sort_values(by=['carat'])"
   ]
  },
  {
   "cell_type": "markdown",
   "metadata": {},
   "source": [
    "# Lesson 4: Groupby\n",
    "Most data operations are done on groups defined by variables. `group_by()` takes an existing tbl and converts it into a grouped tbl where operations are performed \"by group\". "
   ]
  },
  {
   "cell_type": "code",
   "execution_count": null,
   "metadata": {},
   "outputs": [],
   "source": [
    "diamondCuts <- group_by(cut)\n",
    "\n",
    "diamondCuts"
   ]
  },
  {
   "cell_type": "markdown",
   "metadata": {},
   "source": [
    "# Lesson 5: Aggregate\n",
    "Here we will be learning how to collapse a data frame. \n",
    "When using the aggregate() function, the by variables must be in a list. You can use other commands to do a similar process."
   ]
  },
  {
   "cell_type": "code",
   "execution_count": null,
   "metadata": {},
   "outputs": [],
   "source": [
    "# Example\n",
    "aggregate(diamonds, by=list(depth, price), FUN=mean)"
   ]
  },
  {
   "cell_type": "markdown",
   "metadata": {},
   "source": [
    "# Lesson 6: Concat\n",
    "While concatenating strings in R, we can use `paste()` the separator and number number of input strings.\n",
    "\n",
    "We can also concatenate data frames using `rbind()`, but we must note that this command requires the data frames to have the same number of columns."
   ]
  },
  {
   "cell_type": "code",
   "execution_count": null,
   "metadata": {},
   "outputs": [],
   "source": [
    "# paste() example\n",
    "str1 = 'Hello'\n",
    "str2 = 'World!'\n",
    "\n",
    "string = paste(str1, str2)\n",
    "string"
   ]
  },
  {
   "cell_type": "code",
   "execution_count": null,
   "metadata": {},
   "outputs": [],
   "source": [
    "# rbind() example\n",
    "apple <- data.frame(a = c(0,1,2), b = c(3,4,5))\n",
    "grape <- data.frame(a = c(9,10,11), b = c(12,13,14))\n",
    "\n",
    "new <- rbind(apple, grape)\n",
    "new"
   ]
  }
 ],
 "metadata": {
  "kernelspec": {
   "display_name": "Python 3",
   "language": "python",
   "name": "python3"
  },
  "language_info": {
   "codemirror_mode": {
    "name": "ipython",
    "version": 3
   },
   "file_extension": ".py",
   "mimetype": "text/x-python",
   "name": "python",
   "nbconvert_exporter": "python",
   "pygments_lexer": "ipython3",
   "version": "3.8.5"
  }
 },
 "nbformat": 4,
 "nbformat_minor": 4
}
