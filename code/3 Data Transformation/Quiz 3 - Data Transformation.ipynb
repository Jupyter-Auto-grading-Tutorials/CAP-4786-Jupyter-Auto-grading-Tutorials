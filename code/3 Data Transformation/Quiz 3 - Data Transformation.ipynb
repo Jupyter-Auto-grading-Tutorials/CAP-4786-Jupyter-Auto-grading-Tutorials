{
 "cells": [
  {
   "cell_type": "markdown",
   "metadata": {},
   "source": [
    "# Quiz 3\n",
    "This worksheet will test your knowledge on the material that was taught in Tutorial 3. \n",
    "\n",
    "- Subsetting/Slicing\n",
    "- Removing NAs\n",
    "- Sorting\n",
    "- etc.\n",
    "\n",
    "Each exercise will ask the user to select or code the correct answer. At the end of the quiz the user will see which questions they answer incorrectly. \n",
    "\n",
    "**Before starting your Quiz run the chuck below!**"
   ]
  },
  {
   "cell_type": "code",
   "execution_count": null,
   "metadata": {},
   "outputs": [],
   "source": [
    "# It is critical that you run this chuck!!\n",
    "import quiz_3_answers as check"
   ]
  },
  {
   "cell_type": "markdown",
   "metadata": {},
   "source": [
    "## Question 1\n",
    "What is the differences between dropna() and fillna()? <br>\n",
    "> A. `fillna()` removes ows that have NaN or NULL while `dropna()` <br>\n",
    "B. `dropna()` is more feasible to use in a program than `fillna()` <br>\n",
    "C. `fillna()` can be used more than once unlike `dropna()` <br>\n",
    "D. applying `dropna()` on a DataFrame will **REMOVE** every row that has at least one NaN or NULL value in it while `fillna()` does not. "
   ]
  },
  {
   "cell_type": "code",
   "execution_count": null,
   "metadata": {},
   "outputs": [],
   "source": [
    "# Type in the letter that corresponds to your answer within the quotation marks.\n",
    "answer1 = \"\"\n",
    "\n",
    "### Your answer choice\n",
    "answer1"
   ]
  },
  {
   "cell_type": "markdown",
   "metadata": {},
   "source": [
    "Check your answer by running the below chuck!"
   ]
  },
  {
   "cell_type": "code",
   "execution_count": null,
   "metadata": {},
   "outputs": [],
   "source": [
    "# This chuck will check if your input is correct\n",
    "check.answer_1(answer1)"
   ]
  },
  {
   "cell_type": "markdown",
   "metadata": {},
   "source": [
    "## Question 2\n",
    "Groupby mainly refers to a process involving <br>\n",
    "> A. Splitting <br>\n",
    "B. Applying <br>\n",
    "C. Combining <br>\n",
    "D. All Of The Above"
   ]
  },
  {
   "cell_type": "code",
   "execution_count": null,
   "metadata": {},
   "outputs": [],
   "source": [
    "# Type in the letter that corresponds to your answer within the quotation marks.\n",
    "answer2 = \"\"\n",
    "\n",
    "### Your answer choice\n",
    "answer2"
   ]
  },
  {
   "cell_type": "markdown",
   "metadata": {},
   "source": [
    "Check your answer by running the below chuck!"
   ]
  },
  {
   "cell_type": "code",
   "execution_count": null,
   "metadata": {},
   "outputs": [],
   "source": [
    "# This chuck will check if your input is correct\n",
    "check.answer_2(answer2)"
   ]
  },
  {
   "cell_type": "markdown",
   "metadata": {},
   "source": [
    "## Question 3\n",
    "**True Or False:** `Pandas Series.agg()` is used to pass a function or list of function to be applied on a series or even each element of series separately. In case of list of function, multiple results are returned by `agg()` method. <br>\n",
    "> A. True <br>\n",
    "B.  False"
   ]
  },
  {
   "cell_type": "code",
   "execution_count": null,
   "metadata": {},
   "outputs": [],
   "source": [
    "# Type in the letter that corresponds to your answer within the quotation marks.\n",
    "answer3 = \"\"\n",
    "\n",
    "### Your answer choice\n",
    "answer3"
   ]
  },
  {
   "cell_type": "markdown",
   "metadata": {},
   "source": [
    "Check your answer by running the below chuck!"
   ]
  },
  {
   "cell_type": "code",
   "execution_count": null,
   "metadata": {},
   "outputs": [],
   "source": [
    "# This chuck will check if your input is correct\n",
    "check.answer_3(answer3)"
   ]
  },
  {
   "cell_type": "markdown",
   "metadata": {},
   "source": [
    "## Question 4\n",
    "Which of these is not a concat parameter <br>\n",
    "> A. axis <br>\n",
    "B. object  <br>\n",
    "C. levels <br>\n",
    "D. keys"
   ]
  },
  {
   "cell_type": "code",
   "execution_count": null,
   "metadata": {},
   "outputs": [],
   "source": [
    "# Type in the letter that corresponds to your answer within the quotation marks.\n",
    "answer4 = \"\"\n",
    "\n",
    "### Your answer choice\n",
    "answer4"
   ]
  },
  {
   "cell_type": "markdown",
   "metadata": {},
   "source": [
    "Check your answer by running the below chuck!"
   ]
  },
  {
   "cell_type": "code",
   "execution_count": null,
   "metadata": {},
   "outputs": [],
   "source": [
    "# This chuck will check if your input is correct\n",
    "check.answer_4(answer4)"
   ]
  },
  {
   "cell_type": "markdown",
   "metadata": {},
   "source": [
    "## Question 5\n",
    "**True Or False:** We cannot use join and merge to combine 2 dataframes <br>\n",
    "> A. True <br>\n",
    "B.  False"
   ]
  },
  {
   "cell_type": "code",
   "execution_count": null,
   "metadata": {},
   "outputs": [],
   "source": [
    "# Type in the letter that corresponds to your answer within the quotation marks.\n",
    "answer5 = \"\"\n",
    "\n",
    "### Your answer choice\n",
    "answer5"
   ]
  },
  {
   "cell_type": "markdown",
   "metadata": {},
   "source": [
    "Check your answer by running the below chuck!"
   ]
  },
  {
   "cell_type": "code",
   "execution_count": null,
   "metadata": {},
   "outputs": [],
   "source": [
    "# This chuck will check if your input is correct\n",
    "check.answer_5(answer5)"
   ]
  },
  {
   "cell_type": "markdown",
   "metadata": {},
   "source": [
    "## Question 6\n",
    "What is the difference between `merge()` and `join()` <br>\n",
    "> A. Merge can be used only once while join can be used twice <br>\n",
    "B. Join cannot combine data key column while merge can <br>\n",
    "C. Merge can be used for combining data on common columns while join can do the same, but with key columns <br>\n",
    "D. None of the above"
   ]
  },
  {
   "cell_type": "code",
   "execution_count": null,
   "metadata": {},
   "outputs": [],
   "source": [
    "# Type in the letter that corresponds to your answer within the quotation marks.\n",
    "answer6 = \"\"\n",
    "\n",
    "### Your answer choice\n",
    "answer6"
   ]
  },
  {
   "cell_type": "markdown",
   "metadata": {},
   "source": [
    "Check your answer by running the below chuck!"
   ]
  },
  {
   "cell_type": "code",
   "execution_count": null,
   "metadata": {},
   "outputs": [],
   "source": [
    "# This chuck will check if your input is correct\n",
    "check.answer_6(answer6)"
   ]
  },
  {
   "cell_type": "markdown",
   "metadata": {},
   "source": [
    "## Question 7\n",
    "Which of these operators is used for slicing subsets of rows in Python? <br>\n",
    "> A. `()` <br>\n",
    "B. `[]` <br>\n",
    "C. `//` <br>\n",
    "D. `!`"
   ]
  },
  {
   "cell_type": "code",
   "execution_count": null,
   "metadata": {},
   "outputs": [],
   "source": [
    "# Type in the letter that corresponds to your answer within the quotation marks.\n",
    "answer7 = \"\"\n",
    "\n",
    "### Your answer choice\n",
    "answer7"
   ]
  },
  {
   "cell_type": "markdown",
   "metadata": {},
   "source": [
    "Check your answer by running the below chuck!"
   ]
  },
  {
   "cell_type": "code",
   "execution_count": null,
   "metadata": {},
   "outputs": [],
   "source": [
    "# This chuck will check if your input is correct\n",
    "check.answer_7(answer7)"
   ]
  },
  {
   "cell_type": "markdown",
   "metadata": {},
   "source": [
    "## Question 8\n",
    "**True or False:** `loc` is integer based while `iloc` is label based. <br>\n",
    "> A. True <br>\n",
    "B. False"
   ]
  },
  {
   "cell_type": "code",
   "execution_count": null,
   "metadata": {},
   "outputs": [],
   "source": [
    "# Type in the letter that corresponds to your answer within the quotation marks.\n",
    "answer8 = \"\"\n",
    "\n",
    "### Your answer choice\n",
    "answer8"
   ]
  },
  {
   "cell_type": "markdown",
   "metadata": {},
   "source": [
    "Check your answer by running the below chuck!"
   ]
  },
  {
   "cell_type": "code",
   "execution_count": null,
   "metadata": {},
   "outputs": [],
   "source": [
    "# This chuck will check if your input is correct\n",
    "check.answer_8(answer8)"
   ]
  },
  {
   "cell_type": "markdown",
   "metadata": {},
   "source": [
    "## Question 9\n",
    "Which of these is useful to locate where a particular subset of values exist or don’t exist? <br>\n",
    "> A. Boolean <br>\n",
    "B. Integer <br>\n",
    "C. isnull <br>\n",
    "D. Mask "
   ]
  },
  {
   "cell_type": "code",
   "execution_count": null,
   "metadata": {},
   "outputs": [],
   "source": [
    "# Type in the letter that corresponds to your answer within the quotation marks.\n",
    "answer9 = \"\"\n",
    "\n",
    "### Your answer choice\n",
    "answer9"
   ]
  },
  {
   "cell_type": "markdown",
   "metadata": {},
   "source": [
    "Check your answer by running the below chuck!"
   ]
  },
  {
   "cell_type": "code",
   "execution_count": null,
   "metadata": {},
   "outputs": [],
   "source": [
    "# This chuck will check if your input is correct\n",
    "check.answer_9(answer9)"
   ]
  },
  {
   "cell_type": "markdown",
   "metadata": {},
   "source": [
    "## Question 10\n",
    "How many lines of code does it take to drop NA rows? <br>\n",
    "> A. 1 <br>\n",
    "B. 2 <br>\n",
    "C. 3 <br>\n",
    "D. 4"
   ]
  },
  {
   "cell_type": "code",
   "execution_count": null,
   "metadata": {},
   "outputs": [],
   "source": [
    "# Type in the letter that corresponds to your answer within the quotation marks.\n",
    "answer10 = \"\"\n",
    "\n",
    "### Your answer choice\n",
    "answer10"
   ]
  },
  {
   "cell_type": "markdown",
   "metadata": {},
   "source": [
    "Check your answer by running the below chuck!"
   ]
  },
  {
   "cell_type": "code",
   "execution_count": null,
   "metadata": {},
   "outputs": [],
   "source": [
    "# This chuck will check if your input is correct\n",
    "check.answer_10(answer10)"
   ]
  }
 ],
 "metadata": {
  "kernelspec": {
   "display_name": "Python 3",
   "language": "python",
   "name": "python3"
  },
  "language_info": {
   "codemirror_mode": {
    "name": "ipython",
    "version": 3
   },
   "file_extension": ".py",
   "mimetype": "text/x-python",
   "name": "python",
   "nbconvert_exporter": "python",
   "pygments_lexer": "ipython3",
   "version": "3.8.5"
  }
 },
 "nbformat": 4,
 "nbformat_minor": 4
}
