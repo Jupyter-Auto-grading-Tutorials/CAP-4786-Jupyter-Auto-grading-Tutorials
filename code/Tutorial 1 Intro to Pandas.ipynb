{
 "cells": [
  {
   "cell_type": "markdown",
   "metadata": {},
   "source": [
    "# Tutorial 1\n",
    "Hi everyone, thank you for taking the time to learn some Python! We will be introducing you to some beginner content. This tutorial will be covering how to creat a pandas data frame, how to display the data frame's content, and create a scatter plot using your new data frame.\n",
    "\n",
    "# Intro: Background Knowledge\n",
    "This tutorial uses Jupyter Notebook as our coding browser. Below will be a list describing what is what\n",
    "* To load or \"run\" a chunk you must click on the chunk and press the `( ► Run )` button at the top\n",
    "\n",
    "## Code vs Text\n",
    "The `print()` function prints/outputs a specified variable, message, or value that is within its parathesis. If you need to output characters/words you must surround our message with `\" \"`. If you are outputting a value or variable, simply the variable or value within `print()`. "
   ]
  },
  {
   "cell_type": "code",
   "execution_count": null,
   "metadata": {},
   "outputs": [],
   "source": [
    "# This is an example of a code chunk\n",
    "print(\"Yay! I just coded!\")"
   ]
  },
  {
   "cell_type": "markdown",
   "metadata": {},
   "source": [
    "`\"This is is an example of a text chunk\"`"
   ]
  },
  {
   "cell_type": "markdown",
   "metadata": {},
   "source": [
    "## Variables\n",
    "Variables are very useful tools when coding. They allow the writer to assign a variable to equal a value or function. We will be using vaiables throughout this lesson to make things easier, efficient, and organized. Below is an example:"
   ]
  },
  {
   "cell_type": "code",
   "execution_count": null,
   "metadata": {},
   "outputs": [],
   "source": [
    "# In this example we will be showing you how to assign a value to a variable\n",
    "x = 2\n",
    "y = \"fluffy\"\n",
    "\n",
    "print(x)\n",
    "print(y)"
   ]
  },
  {
   "cell_type": "code",
   "execution_count": null,
   "metadata": {},
   "outputs": [],
   "source": [
    "# Variables can be used in functions and calculations\n",
    "print(x * 5)\n",
    "print(y + \" cow\")"
   ]
  },
  {
   "cell_type": "markdown",
   "metadata": {},
   "source": [
    "## Python Packages\n",
    "Before we begin working with Pandas we need to learn how to import the right packages in order to use pandas and other cool features that with Python! In the below chunk you will see an example of how to import a package as abbreviation. "
   ]
  },
  {
   "cell_type": "code",
   "execution_count": null,
   "metadata": {},
   "outputs": [],
   "source": [
    "import tutorial_one_answers as check\n",
    "import numpy as np                    # this is a package that adds additional tools to your Jupyter Notebook\n",
    "from dplython import diamonds         # this package contains a data set we will use later in the tutorial"
   ]
  },
  {
   "cell_type": "markdown",
   "metadata": {},
   "source": [
    "### Question 1: Try importing the correct packages we will need for this lesson\n",
    "Make sure to use the `import` function! You will need to import `matplotlib.pyplot` with the abbreviation `plt` and `pandas` with the abbreviation `pd`. (Worth 2 points)"
   ]
  },
  {
   "cell_type": "code",
   "execution_count": null,
   "metadata": {},
   "outputs": [],
   "source": [
    "# type your code in this chunk\n",
    "import pandas as pd\n",
    "import matplotlib.pyplot as plt"
   ]
  },
  {
   "cell_type": "markdown",
   "metadata": {},
   "source": [
    "Please check your inputted answer by running the chunk below. If your answer is correct, \"Correct\" will be printed! Hints will print if you need help getting to the correct answer."
   ]
  },
  {
   "cell_type": "code",
   "execution_count": null,
   "metadata": {},
   "outputs": [],
   "source": [
    "# This chunk will check if your input is correct\n",
    "check.answer_1(dir())"
   ]
  },
  {
   "cell_type": "markdown",
   "metadata": {},
   "source": [
    "# Lesson 1: Pandas Data Frames\n",
    "\n",
    "## 1.1 Creating a dataframe\n",
    "Now that we have learned how to import, we can now get into pandas! We start off by creating your own dataset using the pandas data frame function. Below is the first example of how to create a `pandas dataframe`! Run the chunk to see how the data frame outputs."
   ]
  },
  {
   "cell_type": "code",
   "execution_count": null,
   "metadata": {
    "scrolled": true
   },
   "outputs": [],
   "source": [
    "# Here is a simple dataframe with values and column names\n",
    "pd.DataFrame(np.array([[1, 2], [4, 5], [7, 8]]),\n",
    "                   columns=['a', 'b'])"
   ]
  },
  {
   "cell_type": "markdown",
   "metadata": {},
   "source": [
    "### Question 2: Recreate the dataframe\n",
    "Please try and recreate the dataframe above but set the dataframe equal to the variable `\"myData\"` (Worth 2 Points)"
   ]
  },
  {
   "cell_type": "code",
   "execution_count": null,
   "metadata": {},
   "outputs": [],
   "source": [
    "# Write your data frame recreation in this chunk\n",
    "myData = pd.DataFrame(np.array([[1, 2], [4, 5], [7, 8]]),\n",
    "                   columns=['a', 'b'])"
   ]
  },
  {
   "cell_type": "markdown",
   "metadata": {},
   "source": [
    "Now to check if your input was correct. If you were right, \"Correct\" will be printed! Hints will print if you need help getting to the correct answer."
   ]
  },
  {
   "cell_type": "code",
   "execution_count": null,
   "metadata": {},
   "outputs": [],
   "source": [
    "# Run this chuck to check your answer\n",
    "check.answer_2(myData)"
   ]
  },
  {
   "cell_type": "markdown",
   "metadata": {},
   "source": [
    "## 1.2 Importing Data Frame from File\n",
    "Here we will be learning how to import new data from an excel file and read it as pandas dataframe. \n",
    "* To do this we will use the function `pd.read_excel('filename')`. "
   ]
  },
  {
   "cell_type": "code",
   "execution_count": null,
   "metadata": {},
   "outputs": [],
   "source": [
    "# read by default 1st sheet of an excel file \n",
    "esports = pd.read_csv(\"GeneralEsportData.csv\", encoding='cp1252') \n",
    "\n",
    "esports.head()"
   ]
  },
  {
   "cell_type": "markdown",
   "metadata": {},
   "source": [
    "## 1.3 Data Frame - Index vs. Column Names\n"
   ]
  },
  {
   "cell_type": "markdown",
   "metadata": {},
   "source": [
    "Here we will be explaing the importance of the `Index` and `Column Names` in a data frame. \n",
    "`Index` is similar to an address, we use the \"address\" to access specific data points when we want to calcuate averges for creat visualizations. Indexes are used for both rows and columns, rows indexes are named the `index` and column indexes are named `column names`. <br> \n",
    " \n",
    "* When selecting a specific `index`, the output will be the selected row data, which includes data from each column within the data frame.<br>\n",
    "* When selecting a specific `column name`, the output will be the selected column data that includes data from each row within the column and the data frame. <br>\n"
   ]
  },
  {
   "cell_type": "markdown",
   "metadata": {},
   "source": [
    "# Lesson 2: Data Frame `describe()` function\n",
    "\n",
    "The pandas `describe()` function is best used when trying to gain a general understanding of a given dataset. With this fuction we can view several statistical values; like mean, std, min, etc. for the data frame's numeric values. The following chuck will provide you with an example of how the `describe()` fuction works and what it outputs. \n",
    "* We will be demonstrating the function using the `myData` dataset."
   ]
  },
  {
   "cell_type": "code",
   "execution_count": null,
   "metadata": {},
   "outputs": [],
   "source": [
    "# Run this chuck to see the describe() output\n",
    "myData.describe()"
   ]
  },
  {
   "cell_type": "markdown",
   "metadata": {},
   "source": [
    "As we can see from the above chuck, the `describe()` function is very useful. From the outputted parameters and basic statistical analysis we now have a better understanding of our data.\n",
    "\n",
    "### Question 3: What are the general parameters and statistics of `esports`?\n",
    "Please output a general statistical analysis of the dataset`esports` using the `describe()` function. (Worth 2 Points)"
   ]
  },
  {
   "cell_type": "code",
   "execution_count": null,
   "metadata": {},
   "outputs": [],
   "source": [
    "# Write your answer code in this chuck\n"
   ]
  },
  {
   "cell_type": "markdown",
   "metadata": {},
   "source": [
    "Now to check if your input was correct. If you were right, \"Correct\" will be printed! Hints will print if you need help getting to the correct answer."
   ]
  },
  {
   "cell_type": "code",
   "execution_count": null,
   "metadata": {},
   "outputs": [],
   "source": [
    "# Run this chuck to check your answer\n",
    "check.answer_3(dir())"
   ]
  },
  {
   "cell_type": "markdown",
   "metadata": {},
   "source": [
    "\n",
    "# Lesson 3: Calculating Column Values: mean, standard deviation, & count\n",
    "This lesson will teach you how to calculate the *mean, standard deviation and total number of values* in a given data frame. These metrics are very important when trying to understand and interpret your data frame. I.e. the importance behind learning these comands and functions. We will first introduce you to calculating the *average values* for each column and each row. Next you will learn how to calculate the *standard deviation (sd)*. Lastly we will explore how to use the `count()` function."
   ]
  },
  {
   "cell_type": "markdown",
   "metadata": {},
   "source": [
    "## 3.1 Mean and Average\n",
    "The function to calculate the mean is simply `mean()`. The function allows for the calculations of column, row, and variable averages/means. In the chuck below you will see an example on how to use the command and what it outputs.\n",
    "\n",
    "We can call to calculate the average for each column or each row based on what we set the axis equal to. For example, if we want to calculate the mean values for every column we can do so by setting the axis equal to zero. To calculate the mean values for each row we must set the axis equal to one. \n",
    "* We will calculate the mean values for each column using the `myData` dataframe."
   ]
  },
  {
   "cell_type": "code",
   "execution_count": null,
   "metadata": {},
   "outputs": [],
   "source": [
    "# Run this chuck to view the example\n",
    "myData.mean(axis=0)"
   ]
  },
  {
   "cell_type": "markdown",
   "metadata": {},
   "source": [
    "As we can see from the above output, the means for the myData columns were a = 4.0 and b = 5.0.\n",
    "\n",
    "### Question 4: Calculate the row means for `esports` data frame.\n",
    "Please output the means for each row of the dataset `esports` using the `mean()` function. <br> Set the output equal to the variable `averages` (Worth 2 Points)"
   ]
  },
  {
   "cell_type": "code",
   "execution_count": null,
   "metadata": {},
   "outputs": [],
   "source": [
    "# Write your answer code in this chuck\n"
   ]
  },
  {
   "cell_type": "markdown",
   "metadata": {},
   "source": [
    "Now to check if your input was correct. If you were right, \"Correct\" will be printed! Hints will print if you need help getting to the correct answer."
   ]
  },
  {
   "cell_type": "code",
   "execution_count": null,
   "metadata": {},
   "outputs": [],
   "source": [
    "# Run this chuck to check your answer\n",
    "check.answer_4(averages)"
   ]
  },
  {
   "cell_type": "markdown",
   "metadata": {},
   "source": [
    "# Lesson 4: Columns and Rows\n",
    "The data frames we work with are two-dimensional, meaning they are aligned in rows and columns. With this design/format we are able to perform operations like *adding, deleting, renaming, etc*. This lesson will discuss the different methods of reformating a given data set."
   ]
  },
  {
   "cell_type": "markdown",
   "metadata": {},
   "source": [
    "## 4.1 Adding New Columns and Rows  \n",
    "Let us first examine the how to add new columns and rows in a data frame. To add a new column to a data frame we use the function `assign()`. To add a new row we use the function `append()`. There some requirements that need to be satified before we can add a new row. First the row must be the same width as the data frame, meaning the row must have an equal amount of columns as the data frame. Second the row must be a read as a spearate data frame. \n",
    "\n",
    "* The following chunks will give an example of how to add new columns using the two different methods."
   ]
  },
  {
   "cell_type": "code",
   "execution_count": null,
   "metadata": {},
   "outputs": [],
   "source": [
    "# We will add a new column name c using the assign() function\n",
    "myNewData = myData.assign(c = [2, 5, 16])\n",
    "\n",
    "myNewData"
   ]
  },
  {
   "cell_type": "markdown",
   "metadata": {},
   "source": [
    "As we can see in the new data frame `myNewData` there is a new column named `c`.\n",
    "\n",
    "### Question 5: Add a new column for `myData` data frame.\n",
    "Please add a new column at the end of the `myData` data frame. The column must be named `d` to and must have three rows. Set the output equal to the variable `myNewData`. Use the `assign()` function, (Worth 2 Points)"
   ]
  },
  {
   "cell_type": "code",
   "execution_count": null,
   "metadata": {},
   "outputs": [],
   "source": [
    "# Write your answer code in this chuck\n"
   ]
  },
  {
   "cell_type": "markdown",
   "metadata": {},
   "source": [
    "Now to check if your input was correct. If you were right, \"Correct\" will be printed! Hints will print if you need help getting to the correct answer."
   ]
  },
  {
   "cell_type": "code",
   "execution_count": null,
   "metadata": {},
   "outputs": [],
   "source": [
    "# Run this chuck to check your answer\n",
    "check.answer_5(newEsports)"
   ]
  },
  {
   "cell_type": "markdown",
   "metadata": {},
   "source": [
    "## 4.2 Adding Columns Based on Calculations and other Columns\n",
    "In this sub-lesson we will learn how to add ne columns based off of calculations of other columns. For example, if we wanted a new column that equaled the total column values per row. \n",
    "\n",
    "We simply call the data frame and place a bracket around the new column we wait then set it equal to the columns we are calculating. \n",
    "\n",
    "* The following chuck offers an example using the data frame `myData`. \n",
    "    * We will be adding a new column that is the product of all the columns."
   ]
  },
  {
   "cell_type": "code",
   "execution_count": null,
   "metadata": {},
   "outputs": [],
   "source": [
    "# Run this chuck to view the example\n",
    "myData[\"total\"] = myData.a + myData.b\n",
    "\n",
    "myData"
   ]
  },
  {
   "cell_type": "markdown",
   "metadata": {},
   "source": [
    "As we can see from the outputted data frame above, there is a new column named `total` that equals the *column a* plus *column b*.\n",
    "\n",
    "### Question 6: Add a new column for `esports` data frame.\n",
    "Please add a new column, named `TotalGamesPlayed`, that adds `TotalPlayers` and `TotalTournaments` for the data frame `esports`. Set the output equal to the variable `newEsports` (Worth 2 Points)"
   ]
  },
  {
   "cell_type": "code",
   "execution_count": null,
   "metadata": {},
   "outputs": [],
   "source": [
    "# Write your answer code in this chuck\n"
   ]
  },
  {
   "cell_type": "markdown",
   "metadata": {},
   "source": [
    "Now to check if your input was correct. If you were right, \"Correct\" will be printed! Hints will print if you need help getting to the correct answer."
   ]
  },
  {
   "cell_type": "code",
   "execution_count": null,
   "metadata": {},
   "outputs": [],
   "source": [
    "# Run this chuck to check your answer\n",
    "check.answer_6(newEsports)"
   ]
  },
  {
   "cell_type": "markdown",
   "metadata": {},
   "source": [
    "## 4.3 Rename & Delete Columns\n",
    "To delete a specific column we must specifically call the column by its index/column name. We use the `drop()` function to delete columns. To rename columns we can use the `rename()` function. We call the `rename()` function, state the column we want to rename, then state the new column name.\n",
    "\n",
    "* The following chucks offers an example using the data frame `myData`."
   ]
  },
  {
   "cell_type": "code",
   "execution_count": null,
   "metadata": {},
   "outputs": [],
   "source": [
    "# Run this chuck to view the example\n",
    "myData.drop('total', 1, inplace=True)\n",
    "\n",
    "myData"
   ]
  },
  {
   "cell_type": "code",
   "execution_count": null,
   "metadata": {},
   "outputs": [],
   "source": [
    "# Run this chuck to view the example\n",
    "myData.rename(columns={'a': 'Alpha'}, inplace=True)\n",
    "\n",
    "myData"
   ]
  },
  {
   "cell_type": "markdown",
   "metadata": {},
   "source": [
    "As we can see from two chucks above, there is a new column named *column a* was removed and *column a* was renamed to *Alpha*.\n",
    "\n",
    "### Question 7: Remove column from `esports` data frame.\n",
    "Please remove the column `OnlineEarnings` from the `esports` data frame. (Worth 2 Points)"
   ]
  },
  {
   "cell_type": "code",
   "execution_count": null,
   "metadata": {},
   "outputs": [],
   "source": [
    "# Write your answer code in this chuck\n"
   ]
  },
  {
   "cell_type": "markdown",
   "metadata": {},
   "source": [
    "Now to check if your input was correct. If you were right, \"Correct\" will be printed! Hints will print if you need help getting to the correct answer."
   ]
  },
  {
   "cell_type": "code",
   "execution_count": null,
   "metadata": {},
   "outputs": [],
   "source": [
    "# Run this chuck to check your answer\n",
    "check.answer_7(newEsports)"
   ]
  },
  {
   "cell_type": "markdown",
   "metadata": {},
   "source": [
    "# Lesson 5: Saving Data Frame to File\n",
    "In this lesson we will be learning how to export a pandas dataframe into a CSV file. The best  method to use would be the `to_csv()` function.  This function exports a given data frame to CSV format. When running the function you can specify where you would like to save the CSV,  giving  a specific path. If you do not spesify were to save the CSV it will be exported to the current working directory. Additionally, you will be able to name the CSV file and select delimiters, the standard is a comma. <br>\n",
    "\n",
    "* This is an example of a path, where you directed to save the CSV File `C:\\User\\Documents\\code`\n",
    "* The following is a standard format when using the `to_csv()` function:\n",
    "\n",
    "     * `dataframe.to_csv('file_name.csv')` # relative position\n",
    "     \n",
    "       * To not include the index in the CSV file you must explicitly state `index=False` \n",
    "     \n",
    "The below chuck will provide you with an example by exporting the `myData` data frame to a CSV file."
   ]
  },
  {
   "cell_type": "code",
   "execution_count": null,
   "metadata": {},
   "outputs": [],
   "source": [
    "# Run this chunk to see myData exported to a csv file\n",
    "myData.to_csv('myData.csv', index=False)"
   ]
  },
  {
   "cell_type": "markdown",
   "metadata": {},
   "source": [
    "As we can see from the above output, myData was successfully exported as a CSV and saved to the current working directory.\n",
    "\n",
    "### Question 8: Try and save the `esports` data frame as a CSV file.\n",
    "Please output a general statistical analysis of the dataset`esports` using the `describe()` function. (Worth 2 Points)"
   ]
  },
  {
   "cell_type": "code",
   "execution_count": null,
   "metadata": {},
   "outputs": [],
   "source": [
    "# Write your answer code in this chuck\n"
   ]
  },
  {
   "cell_type": "markdown",
   "metadata": {},
   "source": [
    "Now to check if your input was correct. If you were right, \"Correct\" will be printed! Hints will print if you need help getting to the correct answer."
   ]
  },
  {
   "cell_type": "code",
   "execution_count": null,
   "metadata": {},
   "outputs": [],
   "source": [
    "# Run this chuck to check your answer\n",
    "check.answer_8(averages)"
   ]
  }
 ],
 "metadata": {
  "kernelspec": {
   "display_name": "Python 3",
   "language": "python",
   "name": "python3"
  },
  "language_info": {
   "codemirror_mode": {
    "name": "ipython",
    "version": 3
   },
   "file_extension": ".py",
   "mimetype": "text/x-python",
   "name": "python",
   "nbconvert_exporter": "python",
   "pygments_lexer": "ipython3",
   "version": "3.8.5"
  }
 },
 "nbformat": 4,
 "nbformat_minor": 4
}
