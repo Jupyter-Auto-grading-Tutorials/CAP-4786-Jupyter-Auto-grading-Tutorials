{
 "cells": [
  {
   "cell_type": "markdown",
   "metadata": {
    "id": "n0y62ggtoZmE"
   },
   "source": [
    "# Practice Exercise 1: Exploring Correlation with Python\n",
    "\n",
    "To start things off, we would need to download the libraries for NumPy, Plotlib, Pandas, Seaborn, and SciPy. These will be required to solve the following exercise.\n",
    "\n",
    "Write your code here:"
   ]
  },
  {
   "cell_type": "raw",
   "metadata": {
    "id": "p7UkiZGypUJZ"
   },
   "source": [
    "dir()"
   ]
  },
  {
   "cell_type": "markdown",
   "metadata": {
    "id": "rjrkZgKSpV5x"
   },
   "source": [
    "Next up, we want to read the General Esports dataset along with loading it as we will use it for this exercise\n",
    "\n",
    "Write your code here:"
   ]
  },
  {
   "cell_type": "code",
   "execution_count": null,
   "metadata": {
    "id": "_Dd4S7Jfqqey"
   },
   "outputs": [],
   "source": []
  },
  {
   "cell_type": "markdown",
   "metadata": {
    "id": "__9En-RdqrCf"
   },
   "source": [
    "Print the description for the General Esports dataset\n",
    "\n",
    "Write your code here:"
   ]
  },
  {
   "cell_type": "code",
   "execution_count": null,
   "metadata": {
    "id": "qrEu8g0WrN-R"
   },
   "outputs": [],
   "source": []
  },
  {
   "cell_type": "markdown",
   "metadata": {
    "id": "QstdmNCqrOuf"
   },
   "source": [
    "Print a correlation for the General Esports dataset\n",
    "\n",
    "Write your code here:"
   ]
  },
  {
   "cell_type": "code",
   "execution_count": null,
   "metadata": {
    "id": "UW6jfqg4rgAZ"
   },
   "outputs": [],
   "source": []
  },
  {
   "cell_type": "markdown",
   "metadata": {
    "id": "pF-dm8xhrnaq"
   },
   "source": [
    "# Practice Exercise 2: Calculating Pearson Correlation Coefficient in Python with Numpy\n",
    "\n",
    "First, let's import the numpy module, alongside the pyplot module from Matplotlib. We'll be using Matplotlib to visualize the correlation later on.\n",
    "\n",
    "Write your code here:"
   ]
  },
  {
   "cell_type": "code",
   "execution_count": null,
   "metadata": {
    "id": "E3fyXDMusJsS"
   },
   "outputs": [],
   "source": []
  },
  {
   "cell_type": "markdown",
   "metadata": {
    "id": "Nh1xP0oksLiT"
   },
   "source": [
    "We'll use the same values from the manual example from before. Let's store that into x_simple and compute the correlation matrix.\n",
    "\n",
    "Write your code here:"
   ]
  },
  {
   "cell_type": "code",
   "execution_count": null,
   "metadata": {
    "id": "3Z7Vmcj6sYSH"
   },
   "outputs": [],
   "source": []
  },
  {
   "cell_type": "markdown",
   "metadata": {
    "id": "xRaDJeZwsYgq"
   },
   "source": [
    "The following is the output correlation matrix. Note the ones on the diagonals, indicating that the correlation coefficient of a variable with itself is one:\n",
    "\n",
    "[Output]"
   ]
  },
  {
   "cell_type": "markdown",
   "metadata": {
    "id": "lnU36k4es4uU"
   },
   "source": [
    "# Practice Exercise 3: Linear Regression with scikit-learn\n",
    "\n",
    "The first step for this exercise is to import the package numpy and the class LinearRegression from sklearn.linear_model. They will have all the functionalities you need to implement linear regression.\n",
    "\n",
    "Write your code here:"
   ]
  },
  {
   "cell_type": "code",
   "execution_count": null,
   "metadata": {
    "id": "ejE4P_fkuVNy"
   },
   "outputs": [],
   "source": []
  },
  {
   "cell_type": "markdown",
   "metadata": {
    "id": "Mm2mn65UuVVQ"
   },
   "source": [
    "The second step is defining data to work with. The inputs (regressors, 𝑥) and output (predictor, 𝑦) should be arrays (the instances of the class numpy.ndarray) or similar objects. This is the simplest way of providing data for regression.\n",
    "\n",
    "Write your code here:"
   ]
  },
  {
   "cell_type": "code",
   "execution_count": null,
   "metadata": {
    "id": "0iZrKj1suwkm"
   },
   "outputs": [],
   "source": []
  },
  {
   "cell_type": "markdown",
   "metadata": {
    "id": "io_afxokuw11"
   },
   "source": [
    "The next step is to create a linear regression model and fit it using the existing data.\n",
    "\n",
    "Let’s create an instance of the class LinearRegression, which will represent the regression model. This statement creates the variable model as the instance of LinearRegression.\n",
    "\n",
    "Write your code here:"
   ]
  },
  {
   "cell_type": "code",
   "execution_count": null,
   "metadata": {
    "id": "YKe6XvjwwKl8"
   },
   "outputs": [],
   "source": []
  },
  {
   "cell_type": "markdown",
   "metadata": {
    "id": "qaZk5iIdwKvq"
   },
   "source": [
    "It’s time to start using the model. First, you need to call .fit() on model.\n",
    "\n",
    "Write your code here:"
   ]
  },
  {
   "cell_type": "code",
   "execution_count": null,
   "metadata": {
    "id": "smnXeLErwZsG"
   },
   "outputs": [],
   "source": []
  },
  {
   "cell_type": "markdown",
   "metadata": {
    "id": "-ndvQFoCwZ-d"
   },
   "source": [
    "With .fit(), you calculate the optimal values of the weights 𝑏₀ and 𝑏₁, using the existing input and output (x and y) as the arguments. In other words, .fit() fits the model. It returns self, which is the variable model itself. Replace the last two statements with another (and shorter) one.\n",
    "\n",
    "Write your code here:"
   ]
  },
  {
   "cell_type": "code",
   "execution_count": null,
   "metadata": {
    "id": "IZbWncvjwnub"
   },
   "outputs": [],
   "source": []
  },
  {
   "cell_type": "markdown",
   "metadata": {
    "id": "Y-kaJv5OwoWI"
   },
   "source": [
    "For our next step, we want to get the results of the regression. Once you have your model fitted, you can get the results to check whether the model works satisfactorily and interpret it. Write a solution to obtain the coefficient of determination with .score() called on model.\n",
    "\n",
    "Write your code here:"
   ]
  },
  {
   "cell_type": "code",
   "execution_count": null,
   "metadata": {
    "id": "xNjjIjV_xPF2"
   },
   "outputs": [],
   "source": []
  },
  {
   "cell_type": "markdown",
   "metadata": {
    "id": "aH2v7H-IxPP_"
   },
   "source": [
    "Write the attributes for the model: the intercept and coefficient.\n",
    "\n",
    "Write your code here:"
   ]
  },
  {
   "cell_type": "code",
   "execution_count": null,
   "metadata": {
    "id": "K48nCWx1xkbw"
   },
   "outputs": [],
   "source": []
  },
  {
   "cell_type": "markdown",
   "metadata": {
    "id": "hFBgVnvixkkJ"
   },
   "source": [
    "Our final step is to predict the response with either existing or new data.\n",
    "\n",
    "Use .predict() to obtain thee predicted response\n",
    "\n",
    "Write your code here:"
   ]
  },
  {
   "cell_type": "code",
   "execution_count": null,
   "metadata": {
    "id": "zqp4TIKZyNgc"
   },
   "outputs": [],
   "source": []
  },
  {
   "cell_type": "markdown",
   "metadata": {
    "id": "kIFsJ-vfyNnG"
   },
   "source": [
    "Use a fitted model to calculate the outputs based on new inputs for the prediction\n",
    "\n",
    "Write your code here:"
   ]
  },
  {
   "cell_type": "code",
   "execution_count": null,
   "metadata": {
    "id": "rPTA6CojylpN"
   },
   "outputs": [],
   "source": []
  },
  {
   "cell_type": "markdown",
   "metadata": {
    "id": "ZFjRkXnfymP0"
   },
   "source": [
    "# Practice Exercise 4: Multiple Linear Reregression with scikit-learn\n",
    "\n",
    "The first and second steps will be completed in one piece of code. First, you import numpy and sklearn.linear_model.LinearRegression and provide known inputs and output\n",
    "\n",
    "Write your code here:"
   ]
  },
  {
   "cell_type": "code",
   "execution_count": null,
   "metadata": {
    "id": "zuchYt9gzK_b"
   },
   "outputs": [],
   "source": []
  },
  {
   "cell_type": "markdown",
   "metadata": {
    "id": "Hd1ybok3zLGv"
   },
   "source": [
    "The next step is to create the regression model as an instance of LinearRegression and fit it with .fit()\n",
    "\n",
    "Write your code here:"
   ]
  },
  {
   "cell_type": "code",
   "execution_count": null,
   "metadata": {
    "id": "sODUi_dMzRaP"
   },
   "outputs": [],
   "source": []
  },
  {
   "cell_type": "markdown",
   "metadata": {
    "id": "ocnfO8JDzRls"
   },
   "source": [
    "The next step is to get the results. You can obtain the properties of the model the same way as in the case of simple linear regression.\n",
    "\n",
    "Write your code here:"
   ]
  },
  {
   "cell_type": "code",
   "execution_count": null,
   "metadata": {
    "id": "OK1WlZADzaWf"
   },
   "outputs": [],
   "source": []
  },
  {
   "cell_type": "markdown",
   "metadata": {
    "id": "vFreYbJ5zakh"
   },
   "source": [
    "The final step is to predict the response, which works in a similar fashion as with in simple linear regression. \n",
    "\n",
    "Write your code here:"
   ]
  },
  {
   "cell_type": "code",
   "execution_count": null,
   "metadata": {
    "id": "zV27taTfz8gF"
   },
   "outputs": [],
   "source": []
  },
  {
   "cell_type": "markdown",
   "metadata": {
    "id": "zN53823qz8nq"
   },
   "source": [
    "You can predict the output values by multiplying each column of the input with the appropriate weight, summing the results and adding the intercept to the sum. Apply the model to new data.\n",
    "\n",
    "Write your code here:"
   ]
  },
  {
   "cell_type": "code",
   "execution_count": null,
   "metadata": {
    "id": "2cFRUmn20MnG"
   },
   "outputs": [],
   "source": []
  },
  {
   "cell_type": "markdown",
   "metadata": {
    "id": "1zF46b5M0jPe"
   },
   "source": [
    "# Practice Exercise 5: Decision Tree Clarification with Python\n",
    "\n",
    "Let's start off by loading the required libraries (Pandas, DecisionTreeClassifier, train_test_split, metrics)\n",
    "\n",
    "Write your code here:"
   ]
  },
  {
   "cell_type": "code",
   "execution_count": null,
   "metadata": {
    "id": "Z15g9QL91CcJ"
   },
   "outputs": [],
   "source": []
  },
  {
   "cell_type": "markdown",
   "metadata": {
    "id": "fRtnRNPS1Cvy"
   },
   "source": [
    "load the required General Esports dataset using pandas' read CSV function.\n",
    "\n",
    "Write your code here:"
   ]
  },
  {
   "cell_type": "code",
   "execution_count": null,
   "metadata": {
    "id": "OyEsM9kL1P6u"
   },
   "outputs": [],
   "source": []
  },
  {
   "cell_type": "markdown",
   "metadata": {
    "id": "Roa3wUq_1QEy"
   },
   "source": [
    "Next, divide given columns into two types of variables dependent(or target variable) and independent variable(or feature variables)\n",
    "\n",
    "Write your code here:"
   ]
  },
  {
   "cell_type": "code",
   "execution_count": null,
   "metadata": {
    "id": "KYbxdy4A1XkU"
   },
   "outputs": [],
   "source": []
  },
  {
   "cell_type": "markdown",
   "metadata": {
    "id": "cF3UqbYx1Xuy"
   },
   "source": [
    "To understand model performance, dividing the dataset into a training set and a test set is a good strategy.\n",
    "\n",
    "Let's split the dataset by using function train_test_split(). You need to pass 3 parameters features, target, and test_set size.\n",
    "\n",
    "Write your code here:"
   ]
  },
  {
   "cell_type": "code",
   "execution_count": null,
   "metadata": {
    "id": "GqyBMzox1emr"
   },
   "outputs": [],
   "source": []
  },
  {
   "cell_type": "markdown",
   "metadata": {
    "id": "pH0UP9gD1e29"
   },
   "source": [
    "Let's create a Decision Tree Model using Scikit-learn.\n",
    "\n",
    "Write your code here:"
   ]
  },
  {
   "cell_type": "code",
   "execution_count": null,
   "metadata": {
    "id": "uIP7LuLB1jsI"
   },
   "outputs": [],
   "source": []
  },
  {
   "cell_type": "markdown",
   "metadata": {
    "id": "Gce4Y9KE13SX"
   },
   "source": [
    "Write a piece of code to visualize the Decision Tree you just created.\n",
    "\n",
    "Write your code here:"
   ]
  },
  {
   "cell_type": "code",
   "execution_count": null,
   "metadata": {
    "id": "a1_UpgN819Lj"
   },
   "outputs": [],
   "source": []
  }
 ],
 "metadata": {
  "colab": {
   "name": "Practice Exercises 4.ipynb",
   "provenance": []
  },
  "kernelspec": {
   "display_name": "Python 3",
   "language": "python",
   "name": "python3"
  },
  "language_info": {
   "codemirror_mode": {
    "name": "ipython",
    "version": 3
   },
   "file_extension": ".py",
   "mimetype": "text/x-python",
   "name": "python",
   "nbconvert_exporter": "python",
   "pygments_lexer": "ipython3",
   "version": "3.8.5"
  }
 },
 "nbformat": 4,
 "nbformat_minor": 1
}
