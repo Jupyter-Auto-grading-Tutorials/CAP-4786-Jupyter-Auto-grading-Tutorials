{
 "cells": [
  {
   "cell_type": "markdown",
   "metadata": {},
   "source": [
    "# Quiz 4\n",
    "This worksheet will test your knowledge on the material that was taught in Tutorial 4. \n",
    "\n",
    "- Correlation\n",
    "- Linear Regression & Measuring Error:\n",
    "- Decision Trees & Measuring Accuracy\n",
    "\n",
    "Each exercise will ask the user to select or code the correct answer. At the end of the quiz the user will see which questions they answer incorrectly. \n",
    "\n",
    "**Before starting your Quiz run the chuck below!**"
   ]
  },
  {
   "cell_type": "code",
   "execution_count": 1,
   "metadata": {},
   "outputs": [],
   "source": [
    "# It is critical that you run this chuck!!\n",
    "import quiz_4_answers as check"
   ]
  },
  {
   "cell_type": "markdown",
   "metadata": {},
   "source": [
    "## Question 1\n",
    "The correlation coefficient is used to determine: <br>\n",
    "> A. A specific value of the y-variable given a specific value of the x-variable <br>\n",
    "B. A specific value of the x-variable given a specific value of the y-variable <br>\n",
    "C. The strength of the relationship between the x and y variables <br>\n",
    "D. None"
   ]
  },
  {
   "cell_type": "code",
   "execution_count": 6,
   "metadata": {},
   "outputs": [
    {
     "data": {
      "text/plain": [
       "'P'"
      ]
     },
     "execution_count": 6,
     "metadata": {},
     "output_type": "execute_result"
    }
   ],
   "source": [
    "# Type in the letter that corresponds to your answer within the quotation marks.\n",
    "answer1 = \"P\"\n",
    "\n",
    "### Your answer choice\n",
    "answer1"
   ]
  },
  {
   "cell_type": "markdown",
   "metadata": {},
   "source": [
    "Check your answer by running the below chuck!"
   ]
  },
  {
   "cell_type": "code",
   "execution_count": 7,
   "metadata": {},
   "outputs": [
    {
     "name": "stdout",
     "output_type": "stream",
     "text": [
      "Invalid Choice\n"
     ]
    }
   ],
   "source": [
    "# This chuck will check if your input is correct\n",
    "check.answer_1(answer1)"
   ]
  },
  {
   "cell_type": "markdown",
   "metadata": {},
   "source": [
    "## Question 2\n",
    "If there is a very strong correlation between two variables then the correlation coefficient must be <br>\n",
    "> A. any value larger than 1 <br>\n",
    "B. much smaller than 0, if the correlation is negative <br>\n",
    "C. much larger than 0, regardless of whether the correlation is negative or positive <br>\n",
    "D. none of these alternatives is correct."
   ]
  },
  {
   "cell_type": "code",
   "execution_count": null,
   "metadata": {},
   "outputs": [],
   "source": [
    "# Type in the letter that corresponds to your answer within the quotation marks.\n",
    "answer2 = \"\"\n",
    "\n",
    "### Your answer choice\n",
    "answer2"
   ]
  },
  {
   "cell_type": "markdown",
   "metadata": {},
   "source": [
    "Check your answer by running the below chuck!"
   ]
  },
  {
   "cell_type": "code",
   "execution_count": null,
   "metadata": {},
   "outputs": [],
   "source": [
    "# This chuck will check if your input is correct\n",
    "check.answer_2(answer2)"
   ]
  },
  {
   "cell_type": "markdown",
   "metadata": {},
   "source": [
    "## Question 3\n",
    "In regression, the equation that describes how the response variable (y) is related to the explanatory variable (x) is: <br>\n",
    "> A. the correlation model <br>\n",
    "B. the regression model <br>\n",
    "C. used to compute the correlation coefficient  <br>\n",
    "D. all of the above are correct"
   ]
  },
  {
   "cell_type": "code",
   "execution_count": null,
   "metadata": {},
   "outputs": [],
   "source": [
    "# Type in the letter that corresponds to your answer within the quotation marks.\n",
    "answer3 = \"\"\n",
    "\n",
    "### Your answer choice\n",
    "answer3"
   ]
  },
  {
   "cell_type": "markdown",
   "metadata": {},
   "source": [
    "Check your answer by running the below chuck!"
   ]
  },
  {
   "cell_type": "code",
   "execution_count": null,
   "metadata": {},
   "outputs": [],
   "source": [
    "# This chuck will check if your input is correct\n",
    "check.answer_3(answer3)"
   ]
  },
  {
   "cell_type": "markdown",
   "metadata": {},
   "source": [
    "## Question 4\n",
    "The relationship between number of beers consumed (x) and blood alcohol content (y) was studied in 16 male college students by using least squares regression. The following regression equation was obtained from this study: \n",
    " `-0.0127 + 0.0180x` <br>\n",
    "\n",
    "The above equation implies that: <br>\n",
    "> A. each beer consumed increases blood alcohol by 1.27% <br>\n",
    "B. on average it takes 1.8 beers to increase blood alcohol content by 1% <br>\n",
    "C. each beer consumed increases blood alcohol by an average of amount of 1.8% <br>\n",
    "D. each beer consumed increases blood alcohol by exactly 0.018"
   ]
  },
  {
   "cell_type": "code",
   "execution_count": null,
   "metadata": {},
   "outputs": [],
   "source": [
    "# Type in the letter that corresponds to your answer within the quotation marks.\n",
    "answer4 = \"\"\n",
    "\n",
    "### Your answer choice\n",
    "answer4"
   ]
  },
  {
   "cell_type": "markdown",
   "metadata": {},
   "source": [
    "Check your answer by running the below chuck!"
   ]
  },
  {
   "cell_type": "code",
   "execution_count": null,
   "metadata": {},
   "outputs": [],
   "source": [
    "# This chuck will check if your input is correct\n",
    "check.answer_4(answer4)"
   ]
  },
  {
   "cell_type": "markdown",
   "metadata": {},
   "source": [
    "## Question 5\n",
    "In regression analysis, the variable that is being predicted is the: <br>\n",
    "> A.  dependent variable <br>\n",
    "B. independent variable <br>\n",
    "C. intervening variable <br>\n",
    "D. is usually x"
   ]
  },
  {
   "cell_type": "code",
   "execution_count": null,
   "metadata": {},
   "outputs": [],
   "source": [
    "# Type in the letter that corresponds to your answer within the quotation marks.\n",
    "answer5 = \"\"\n",
    "\n",
    "### Your answer choice\n",
    "answer5"
   ]
  },
  {
   "cell_type": "markdown",
   "metadata": {},
   "source": [
    "Check your answer by running the below chuck!"
   ]
  },
  {
   "cell_type": "code",
   "execution_count": null,
   "metadata": {},
   "outputs": [],
   "source": [
    "# This chuck will check if your input is correct\n",
    "check.answer_5(answer5)"
   ]
  },
  {
   "cell_type": "markdown",
   "metadata": {},
   "source": [
    "## Question 6\n",
    "If the correlation coefficient is a positive value, then the slope of the regression line <br>\n",
    "> A. must also be positive  <br>\n",
    "B. can be either negative or positive <br>\n",
    "C. can be zero <br>\n",
    "D. can not be zero"
   ]
  },
  {
   "cell_type": "code",
   "execution_count": null,
   "metadata": {},
   "outputs": [],
   "source": [
    "# Type in the letter that corresponds to your answer within the quotation marks.\n",
    "answer6 = \"\"\n",
    "\n",
    "### Your answer choice\n",
    "answer6"
   ]
  },
  {
   "cell_type": "markdown",
   "metadata": {},
   "source": [
    "Check your answer by running the below chuck!"
   ]
  },
  {
   "cell_type": "code",
   "execution_count": null,
   "metadata": {},
   "outputs": [],
   "source": [
    "# This chuck will check if your input is correct\n",
    "check.answer_6(answer6)"
   ]
  },
  {
   "cell_type": "markdown",
   "metadata": {},
   "source": [
    "## Question 7\n",
    "If the correlation coefficient is a positive value, then the slope of the regression line <br>\n",
    "> A. must also be positive <br>\n",
    "B. can be either negative or positive <br>\n",
    "C. will be zero <br>\n",
    "D. will not be zero"
   ]
  },
  {
   "cell_type": "code",
   "execution_count": null,
   "metadata": {},
   "outputs": [],
   "source": [
    "# Type in the letter that corresponds to your answer within the quotation marks.\n",
    "answer7 = \"\"\n",
    "\n",
    "### Your answer choice\n",
    "answer7"
   ]
  },
  {
   "cell_type": "markdown",
   "metadata": {},
   "source": [
    "Check your answer by running the below chuck!"
   ]
  },
  {
   "cell_type": "code",
   "execution_count": null,
   "metadata": {},
   "outputs": [],
   "source": [
    "# This chuck will check if your input is correct\n",
    "check.answer_7(answer7)"
   ]
  },
  {
   "cell_type": "markdown",
   "metadata": {},
   "source": [
    "## Question 8\n",
    " In Regression analysis, the variable that is being predicted is the: <br>\n",
    "> A. dependent variable <br>\n",
    "B. independent variable <br>\n",
    "C. intervening variable <br>\n",
    "D. is usually x"
   ]
  },
  {
   "cell_type": "code",
   "execution_count": null,
   "metadata": {},
   "outputs": [],
   "source": [
    "# Type in the letter that corresponds to your answer within the quotation marks.\n",
    "answer8 = \"\"\n",
    "\n",
    "### Your answer choice\n",
    "answer8"
   ]
  },
  {
   "cell_type": "markdown",
   "metadata": {},
   "source": [
    "Check your answer by running the below chuck!"
   ]
  },
  {
   "cell_type": "code",
   "execution_count": null,
   "metadata": {},
   "outputs": [],
   "source": [
    "# This chuck will check if your input is correct\n",
    "check.answer_8(answer8)"
   ]
  },
  {
   "cell_type": "markdown",
   "metadata": {},
   "source": [
    "## Question 9\n",
    "A ________ is a decision support tool that uses a tree-like graph or model of decisions and their possible consequences, including chance event outcomes, resource costs, and utility. <br>\n",
    "> A. Decision Tree <br>\n",
    "B. Graphs <br>\n",
    "C. Regression <br>\n",
    "D. Neural Networks"
   ]
  },
  {
   "cell_type": "code",
   "execution_count": null,
   "metadata": {},
   "outputs": [],
   "source": [
    "# Type in the letter that corresponds to your answer within the quotation marks.\n",
    "answer9 = \"\"\n",
    "\n",
    "### Your answer choice\n",
    "answer9"
   ]
  },
  {
   "cell_type": "markdown",
   "metadata": {},
   "source": [
    "Check your answer by running the below chuck!"
   ]
  },
  {
   "cell_type": "code",
   "execution_count": null,
   "metadata": {},
   "outputs": [],
   "source": [
    "# This chuck will check if your input is correct\n",
    "check.answer_9(answer9)"
   ]
  },
  {
   "cell_type": "markdown",
   "metadata": {},
   "source": [
    "## Question 10\n",
    "Decision Tree is a display of an algorithm. <br>\n",
    "> A. True  <br>\n",
    "B. False"
   ]
  },
  {
   "cell_type": "code",
   "execution_count": null,
   "metadata": {},
   "outputs": [],
   "source": [
    "# Type in the letter that corresponds to your answer within the quotation marks.\n",
    "answer10 = \"\"\n",
    "\n",
    "### Your answer choice\n",
    "answer10"
   ]
  },
  {
   "cell_type": "markdown",
   "metadata": {},
   "source": [
    "Check your answer by running the below chuck!"
   ]
  },
  {
   "cell_type": "code",
   "execution_count": null,
   "metadata": {},
   "outputs": [],
   "source": [
    "# This chuck will check if your input is correct\n",
    "check.answer_10(answer10)"
   ]
  }
 ],
 "metadata": {
  "kernelspec": {
   "display_name": "Python 3",
   "language": "python",
   "name": "python3"
  },
  "language_info": {
   "codemirror_mode": {
    "name": "ipython",
    "version": 3
   },
   "file_extension": ".py",
   "mimetype": "text/x-python",
   "name": "python",
   "nbconvert_exporter": "python",
   "pygments_lexer": "ipython3",
   "version": "3.8.5"
  }
 },
 "nbformat": 4,
 "nbformat_minor": 4
}
