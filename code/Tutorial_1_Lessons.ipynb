{
 "cells": [
  {
   "cell_type": "markdown",
   "metadata": {
    "nbgrader": {
     "grade": false,
     "grade_id": "Introduction",
     "locked": true,
     "schema_version": 3,
     "solution": false,
     "task": false
    }
   },
   "source": [
    "# Tutorial 1\n",
    "Hi everyone, thank you for taking the time to learn some Python! We will be introducing you to some beginner content. This tutorial will be covering how to creat a pandas data frame, how to display the data frame content, and create a scatter plot using your new data frame.\n",
    "\n",
    "## Intro: Background Knowledge\n",
    "\n",
    "This tutorial uses Jupyter Notebook as our coding browser. Below will be a list describing what is what.\n",
    "* To load or \"run\" a chunk you must click on the chunk and press the `( ► Run )` button at the top\n",
    "\n",
    "### Code vs Text\n",
    "The `print()` function prints/outputs a specified variable, message, or value that is within its parathesis. If you need to output characters/words you must surround our message with `\" \"`. If you are outputting a value or variable, simply the variable or value within `print()`. "
   ]
  },
  {
   "cell_type": "code",
   "execution_count": null,
   "metadata": {
    "nbgrader": {
     "grade": false,
     "grade_id": "example1",
     "locked": true,
     "schema_version": 3,
     "solution": false,
     "task": false
    }
   },
   "outputs": [],
   "source": [
    "# This is an example of a code chunk\n",
    "print(\"Yay! I just coded!\")"
   ]
  },
  {
   "cell_type": "markdown",
   "metadata": {
    "nbgrader": {
     "grade": false,
     "grade_id": "variables",
     "locked": true,
     "schema_version": 3,
     "solution": false,
     "task": false
    }
   },
   "source": [
    "### Variables\n",
    "Variables are very useful tools when coding. They allow the writer to assign a variable to equal a value or function. We will be using vaiables throughout this lesson to make things easier, efficient, and organized. Below is an example:"
   ]
  },
  {
   "cell_type": "code",
   "execution_count": null,
   "metadata": {
    "nbgrader": {
     "grade": false,
     "grade_id": "example2",
     "locked": true,
     "schema_version": 3,
     "solution": false,
     "task": false
    }
   },
   "outputs": [],
   "source": [
    "# In this example we will be showing you how to assign a value to a variable\n",
    "x = 2\n",
    "y = \"fluffy\"\n",
    "\n",
    "print(x)\n",
    "print(y)\n",
    "\n",
    "# Variables can be used in functions and calculations\n",
    "print(x * 5)\n",
    "print(y + \" cow\")"
   ]
  },
  {
   "cell_type": "markdown",
   "metadata": {
    "nbgrader": {
     "grade": false,
     "grade_id": "Import",
     "locked": true,
     "schema_version": 3,
     "solution": false,
     "task": false
    }
   },
   "source": [
    "### Importing Packages\n",
    "Before we can begin our first lesson we need to first learn how to import the right packages in order to use pandas and other cool features that with Python! In the below chunk you will see an example of how to import a package as abbreviation. "
   ]
  },
  {
   "cell_type": "code",
   "execution_count": null,
   "metadata": {
    "nbgrader": {
     "grade": false,
     "grade_id": "importPackages",
     "locked": true,
     "schema_version": 3,
     "solution": false,
     "task": false
    }
   },
   "outputs": [],
   "source": [
    "# The import fuction tells Jupyter notebook to download a specific tool set\n",
    "import tutorial_one_answers as check\n",
    "import numpy as np                    # this is a package that adds additional tools to your Jupyter Notebook"
   ]
  },
  {
   "cell_type": "markdown",
   "metadata": {
    "nbgrader": {
     "grade": false,
     "grade_id": "Q1",
     "locked": true,
     "schema_version": 3,
     "solution": false,
     "task": false
    }
   },
   "source": [
    "### Question 1: Try importing the correct packages we will need for this lesson\n",
    "Make sure to use the `import` function! You will need to import `matplotlib.pyplot` with the abbreviation `plt` and `pandas` with the abbreviation `pd`. (Worth 2 Points)"
   ]
  },
  {
   "cell_type": "code",
   "execution_count": null,
   "metadata": {
    "nbgrader": {
     "grade": false,
     "grade_id": "Q1Answer",
     "locked": false,
     "schema_version": 3,
     "solution": true,
     "task": false
    }
   },
   "outputs": [],
   "source": [
    "# type your code in this chunk\n"
   ]
  },
  {
   "cell_type": "code",
   "execution_count": null,
   "metadata": {
    "nbgrader": {
     "grade": true,
     "grade_id": "Q1AnswerCheck",
     "locked": true,
     "points": 2,
     "schema_version": 3,
     "solution": false,
     "task": false
    }
   },
   "outputs": [],
   "source": [
    "# This chunk will check if your input is correct\n",
    "check.answer_1(dir())"
   ]
  },
  {
   "cell_type": "markdown",
   "metadata": {
    "nbgrader": {
     "grade": false,
     "grade_id": "lesson1",
     "locked": true,
     "schema_version": 3,
     "solution": false,
     "task": false
    }
   },
   "source": [
    "## Lesson 1: Pandas Data Frame\n",
    "For this first lesson we will be learning how to create a pandas dataframe.\n",
    "\n",
    "### Pandas: Creating a dataframe\n",
    "Now that we have learned how to import, we can now get into pandas! We start off by creating your own dataset using the pandas data frame function. Below is the first example of how to create a `pandas dataframe`! Run the chunk to see how the data frame outputs."
   ]
  },
  {
   "cell_type": "code",
   "execution_count": null,
   "metadata": {
    "nbgrader": {
     "grade": false,
     "grade_id": "dataframeExample",
     "locked": true,
     "schema_version": 3,
     "solution": false,
     "task": false
    }
   },
   "outputs": [],
   "source": [
    "# Here is an example of a simple data frame with values and column names\n",
    "pd.DataFrame(np.array([[1, 2], [4, 5], [7, 8]]),\n",
    "                   columns=['a', 'b'])"
   ]
  },
  {
   "cell_type": "markdown",
   "metadata": {
    "nbgrader": {
     "grade": false,
     "grade_id": "Q2",
     "locked": true,
     "schema_version": 3,
     "solution": false,
     "task": false
    }
   },
   "source": [
    "### Question 2: Recreate the data frame\n",
    "Please try and recreate the data frame above but set the data frame equal to the variable `\"myData\"` (Worth 2 Points)"
   ]
  },
  {
   "cell_type": "code",
   "execution_count": null,
   "metadata": {
    "nbgrader": {
     "grade": false,
     "grade_id": "Q2Answer",
     "locked": false,
     "schema_version": 3,
     "solution": true,
     "task": false
    }
   },
   "outputs": [],
   "source": [
    "# Write your data frame recreation in this chunk\n"
   ]
  },
  {
   "cell_type": "code",
   "execution_count": null,
   "metadata": {
    "nbgrader": {
     "grade": true,
     "grade_id": "Q2AnswerCheck",
     "locked": true,
     "points": 2,
     "schema_version": 3,
     "solution": false,
     "task": false
    }
   },
   "outputs": [],
   "source": [
    "# Run this chuck to check your answer\n",
    "check.answer_2(myData)"
   ]
  },
  {
   "cell_type": "markdown",
   "metadata": {
    "nbgrader": {
     "grade": false,
     "grade_id": "cell-ecec7401f2c28d41",
     "locked": true,
     "schema_version": 3,
     "solution": false,
     "task": false
    }
   },
   "source": [
    "## Lesson 2: Scatter Plot\n"
   ]
  }
 ],
 "metadata": {
  "celltoolbar": "Create Assignment",
  "kernelspec": {
   "display_name": "Python 3",
   "language": "python",
   "name": "python3"
  },
  "language_info": {
   "codemirror_mode": {
    "name": "ipython",
    "version": 3
   },
   "file_extension": ".py",
   "mimetype": "text/x-python",
   "name": "python",
   "nbconvert_exporter": "python",
   "pygments_lexer": "ipython3",
   "version": "3.8.5"
  }
 },
 "nbformat": 4,
 "nbformat_minor": 4
}
