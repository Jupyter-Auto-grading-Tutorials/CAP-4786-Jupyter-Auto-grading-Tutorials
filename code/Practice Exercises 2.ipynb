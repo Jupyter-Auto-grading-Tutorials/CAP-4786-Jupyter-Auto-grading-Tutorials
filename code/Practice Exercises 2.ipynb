{
 "cells": [
  {
   "cell_type": "markdown",
   "metadata": {},
   "source": [
    "# Practice Exercises 2\n",
    "This worksheet will cover the same material that was taught in Tutorial 2. \n",
    "\n",
    "* Plotting with Matplotlib and Seaborn\n",
    "    * Scatter plots, Line plots, Bar graphs, & Histograms\n",
    "    * Including titles, axes labels, and color-coding\n",
    "\n",
    "Be ready, the questions that follow will test your knowledge on each of the lesssons covered. Each exercise will ask the user to select or code the correct answer. If the user fails to answer the question correctly, a hint will appear followed my the correct answer."
   ]
  },
  {
   "cell_type": "markdown",
   "metadata": {
    "id": "nZWY7DxJG3H_"
   },
   "source": [
    "## Exercise 1\n",
    "Import the pandas and altair packages as we need them for the practice exercises <br>"
   ]
  },
  {
   "cell_type": "code",
   "execution_count": null,
   "metadata": {
    "id": "tSi1JMKMG_SS"
   },
   "outputs": [],
   "source": [
    "# Write Your Code Here:\n"
   ]
  },
  {
   "cell_type": "markdown",
   "metadata": {},
   "source": [
    "Check your answer by running the below chuck!"
   ]
  },
  {
   "cell_type": "code",
   "execution_count": null,
   "metadata": {},
   "outputs": [],
   "source": [
    "# This chuck will check if your input is correct\n",
    "check.answer_1()"
   ]
  },
  {
   "cell_type": "markdown",
   "metadata": {
    "id": "kvdMg5zPHH4q"
   },
   "source": [
    "## Exercise 2\n",
    "Print the General Esports Dataset"
   ]
  },
  {
   "cell_type": "code",
   "execution_count": null,
   "metadata": {
    "id": "0NDK6OYaHseF"
   },
   "outputs": [],
   "source": [
    "# Write Your Code Here:\n"
   ]
  },
  {
   "cell_type": "markdown",
   "metadata": {},
   "source": [
    "Check your answer by running the below chuck!"
   ]
  },
  {
   "cell_type": "code",
   "execution_count": null,
   "metadata": {},
   "outputs": [],
   "source": [
    "# This chuck will check if your input is correct\n",
    "check.answer_2(answer2)"
   ]
  },
  {
   "cell_type": "markdown",
   "metadata": {
    "id": "j-xZKKgVHs6R"
   },
   "source": [
    "## Exercise 3\n",
    "Create a line plot that showcases which year in gaming has had the most tournaments. Make sure you include titles, axes labels, and color-coding. \n"
   ]
  },
  {
   "cell_type": "code",
   "execution_count": null,
   "metadata": {
    "id": "7lGltZm2H-Wl"
   },
   "outputs": [],
   "source": [
    "# Write Your Code Here:\n"
   ]
  },
  {
   "cell_type": "markdown",
   "metadata": {},
   "source": [
    "Check your answer by running the below chuck!"
   ]
  },
  {
   "cell_type": "code",
   "execution_count": null,
   "metadata": {},
   "outputs": [],
   "source": [
    "# This chuck will check if your input is correct\n",
    "check.answer_3(answer3)"
   ]
  },
  {
   "cell_type": "markdown",
   "metadata": {
    "id": "Xj8WBWT8ITkq"
   },
   "source": [
    "## Exercise 4\n",
    "True Or False: It is more convenient to present this type of data through a histogram than a line plot <br>\n",
    "> A. True <br>\n",
    "B. False"
   ]
  },
  {
   "cell_type": "code",
   "execution_count": null,
   "metadata": {
    "id": "uj9GU0DHIYCY"
   },
   "outputs": [],
   "source": [
    "# Type in the letter that corresponds to your answer within the quotation marks.\n",
    "answer4 = \"\"\n",
    "\n",
    "### Your answer choice\n",
    "answer4"
   ]
  },
  {
   "cell_type": "markdown",
   "metadata": {},
   "source": [
    "Check your answer by running the below chuck!"
   ]
  },
  {
   "cell_type": "code",
   "execution_count": null,
   "metadata": {},
   "outputs": [],
   "source": [
    "# This chuck will check if your input is correct\n",
    "check.answer_4(answer4)"
   ]
  },
  {
   "cell_type": "markdown",
   "metadata": {
    "id": "6gzjQIfaIYW9"
   },
   "source": [
    "## Exercise 5\n",
    "What graph will we be creating for the next question: <br>\n",
    ">A. Bar Graph <br>\n",
    "B. Histogram<br>\n",
    "C. Scatter Plot<br>\n",
    "D. Line Plot"
   ]
  },
  {
   "cell_type": "code",
   "execution_count": null,
   "metadata": {},
   "outputs": [],
   "source": [
    "# Type in the letter that corresponds to your answer within the quotation marks.\n",
    "answer5 = \"\"\n",
    "\n",
    "### Your answer choice\n",
    "answer5"
   ]
  },
  {
   "cell_type": "markdown",
   "metadata": {
    "id": "dOAKPDDzItM5"
   },
   "source": [
    "Check your answer by running the below chuck!"
   ]
  },
  {
   "cell_type": "code",
   "execution_count": null,
   "metadata": {},
   "outputs": [],
   "source": [
    "# This chuck will check if your input is correct\n",
    "check.answer_5(answer5)"
   ]
  },
  {
   "cell_type": "markdown",
   "metadata": {
    "id": "ZcTvCddHIzej"
   },
   "source": [
    "## Exercise 6\n",
    "Rearrange the lines of code given below to subset the data we are interested in visualizing (Game, TotalEarnings, OnlineEarnings), drop missing values, and round out the Total Earnings and Online Earnings to the nearest millonth. \n"
   ]
  },
  {
   "cell_type": "code",
   "execution_count": null,
   "metadata": {
    "id": "zHqnCwGdI5Y2"
   },
   "outputs": [],
   "source": [
    "# Write code here\n"
   ]
  },
  {
   "cell_type": "code",
   "execution_count": null,
   "metadata": {},
   "outputs": [],
   "source": [
    "Check your answer by running the below chuck!"
   ]
  },
  {
   "cell_type": "code",
   "execution_count": null,
   "metadata": {},
   "outputs": [],
   "source": [
    "# This chuck will check if your input is correct\n",
    "check.answer_6(answer6)"
   ]
  },
  {
   "cell_type": "markdown",
   "metadata": {
    "id": "dchm_JkII5jr"
   },
   "source": [
    "## Exercise 7\n",
    "Fill in the blank: ______ in the lines of code given below to create a scatterplot with the Year in the x-axis and the Total Earnings in the y-axis to create a visualization that we can use to explore whether there is a relationship between the year the game was released and the amount of earnings that are given based on a specific year in gaming.\n",
    "\n",
    "Update the code here:"
   ]
  },
  {
   "cell_type": "code",
   "execution_count": null,
   "metadata": {
    "id": "hdQ21wFmI_xy"
   },
   "outputs": [],
   "source": [
    "# Write Your Code Here:\n"
   ]
  },
  {
   "cell_type": "markdown",
   "metadata": {},
   "source": [
    "Check your answer by running the below chuck!"
   ]
  },
  {
   "cell_type": "code",
   "execution_count": null,
   "metadata": {},
   "outputs": [],
   "source": [
    "# This chuck will check if your input is correct\n",
    "check.answer_7(answer7)"
   ]
  },
  {
   "cell_type": "markdown",
   "metadata": {
    "id": "2JFmdLASI_9W"
   },
   "source": [
    "## Exercise 8\n",
    "Choose a statement that best reflects the data that was just created:<br>\n",
    "> A. No relationship <br>\n",
    "B. Positive relationship <br>\n",
    "C. Negative relationship "
   ]
  },
  {
   "cell_type": "code",
   "execution_count": null,
   "metadata": {
    "id": "WvivCo6EKcDk"
   },
   "outputs": [],
   "source": [
    "# Type in the letter that corresponds to your answer within the quotation marks.\n",
    "answer8 = \"\"\n",
    "\n",
    "### Your answer choice\n",
    "answer8"
   ]
  },
  {
   "cell_type": "markdown",
   "metadata": {},
   "source": [
    "Check your answer by running the below chuck!"
   ]
  },
  {
   "cell_type": "code",
   "execution_count": null,
   "metadata": {},
   "outputs": [],
   "source": [
    "# This chuck will check if your input is correct\n",
    "check.answer_8(answer8)"
   ]
  },
  {
   "cell_type": "markdown",
   "metadata": {
    "id": "dxivx6SWLcR4"
   },
   "source": [
    "## Exercise 9\n",
    "Which type of plot/graph is best for presenting nominal data:  <br>\n",
    "> A. Scatterplot <br>\n",
    "B. Line Plot <br>\n",
    "C. Bar Plot <br>\n",
    "D. All Of The Above <br>"
   ]
  },
  {
   "cell_type": "code",
   "execution_count": null,
   "metadata": {
    "id": "vrfZN-TLLsw7"
   },
   "outputs": [],
   "source": [
    "# Type in the letter that corresponds to your answer within the quotation marks.\n",
    "answer9 = \"\"\n",
    "\n",
    "### Your answer choice\n",
    "answer9"
   ]
  },
  {
   "cell_type": "markdown",
   "metadata": {},
   "source": [
    "Check your answer by running the below chuck!"
   ]
  },
  {
   "cell_type": "code",
   "execution_count": null,
   "metadata": {},
   "outputs": [],
   "source": [
    "# This chuck will check if your input is correct\n",
    "check.answer_9(answer9)"
   ]
  },
  {
   "cell_type": "markdown",
   "metadata": {
    "id": "Y-cCwWAqLtR4"
   },
   "source": [
    "## Exercise 10\n",
    "Which type of plot/graph is best for presenting percentages:<br>\n",
    "\n",
    "> A. Box Plot <br>\n",
    "B. Pie Plot<br>\n",
    "C. Histogram<br>\n",
    "D. None Of The Above\n"
   ]
  },
  {
   "cell_type": "code",
   "execution_count": null,
   "metadata": {},
   "outputs": [],
   "source": [
    "# Type in the letter that corresponds to your answer within the quotation marks.\n",
    "answer10 = \"\"\n",
    "\n",
    "### Your answer choice\n",
    "answer10"
   ]
  },
  {
   "cell_type": "markdown",
   "metadata": {},
   "source": [
    "Check your answer by running the below chuck!"
   ]
  },
  {
   "cell_type": "code",
   "execution_count": null,
   "metadata": {},
   "outputs": [],
   "source": [
    "# This chuck will check if your input is correct\n",
    "check.answer_10(answer10)"
   ]
  }
 ],
 "metadata": {
  "colab": {
   "name": "Untitled0.ipynb",
   "provenance": []
  },
  "kernelspec": {
   "display_name": "Python 3",
   "language": "python",
   "name": "python3"
  },
  "language_info": {
   "codemirror_mode": {
    "name": "ipython",
    "version": 3
   },
   "file_extension": ".py",
   "mimetype": "text/x-python",
   "name": "python",
   "nbconvert_exporter": "python",
   "pygments_lexer": "ipython3",
   "version": "3.8.5"
  }
 },
 "nbformat": 4,
 "nbformat_minor": 1
}
