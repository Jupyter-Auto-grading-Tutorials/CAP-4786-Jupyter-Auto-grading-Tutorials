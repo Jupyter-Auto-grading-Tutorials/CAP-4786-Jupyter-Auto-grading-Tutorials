{
 "cells": [
  {
   "cell_type": "markdown",
   "metadata": {},
   "source": [
    "# Import needed packages"
   ]
  },
  {
   "cell_type": "code",
   "execution_count": 4,
   "metadata": {},
   "outputs": [],
   "source": [
    "import pandas as pd\n",
    "import matplotlib.pyplot as plt\n",
    "import sys"
   ]
  },
  {
   "cell_type": "markdown",
   "metadata": {},
   "source": [
    "## Creating our functions"
   ]
  },
  {
   "cell_type": "markdown",
   "metadata": {},
   "source": [
    "The functions below will act as our correct answers to the tutorial 1 questions"
   ]
  },
  {
   "cell_type": "code",
   "execution_count": 5,
   "metadata": {},
   "outputs": [],
   "source": [
    "# Answer to question 1\n",
    "def answer_1(userAnswer):\n",
    "    assert 'pandas' in sys.modules, \"Sorry that's incorrect, you need to import pandas, please check you are using the correct import function.\"\n",
    "    assert \"pd\" in userAnswer, \"Watch out! Check that you are using the abbriviation pd when importing the pandas.\"\n",
    "    assert 'matplotlib.pyplot' in sys.modules, \"Sorry that's incorrect, you need to import pandas, please check you are using the correct import function.\"\n",
    "    assert \"plt\" in userAnswer, \"Watch out! Check that you are using the abbriviation plt when importing the matplotlib.pyplot.\"\n",
    "    return \"Correct Answer!\""
   ]
  },
  {
   "cell_type": "code",
   "execution_count": null,
   "metadata": {},
   "outputs": [],
   "source": [
    "def answer_2(userAnswer):\n",
    "    assert myData = pd.DataFrame(np.array([[1, 2, 3], [4, 5, 6], [7, 8, 9]]),\n",
    "                   columns=['a', 'b', 'c']), \"Data frame is missing the new variable name\"\n",
    "    return \"Nice Job\""
   ]
  },
  {
   "cell_type": "code",
   "execution_count": null,
   "metadata": {},
   "outputs": [],
   "source": [
    "def answer_3(userAnswer):\n",
    "    return \"Correct\""
   ]
  }
 ],
 "metadata": {
  "kernelspec": {
   "display_name": "Python 3",
   "language": "python",
   "name": "python3"
  },
  "language_info": {
   "codemirror_mode": {
    "name": "ipython",
    "version": 3
   },
   "file_extension": ".py",
   "mimetype": "text/x-python",
   "name": "python",
   "nbconvert_exporter": "python",
   "pygments_lexer": "ipython3",
   "version": "3.8.5"
  }
 },
 "nbformat": 4,
 "nbformat_minor": 4
}
